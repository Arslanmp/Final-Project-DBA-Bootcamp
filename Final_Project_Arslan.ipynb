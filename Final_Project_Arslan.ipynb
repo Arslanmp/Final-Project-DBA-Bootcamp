{
  "nbformat": 4,
  "nbformat_minor": 0,
  "metadata": {
    "colab": {
      "provenance": [],
      "include_colab_link": true
    },
    "kernelspec": {
      "name": "python3",
      "display_name": "Python 3"
    },
    "language_info": {
      "name": "python"
    }
  },
  "cells": [
    {
      "cell_type": "markdown",
      "metadata": {
        "id": "view-in-github",
        "colab_type": "text"
      },
      "source": [
        "<a href=\"https://colab.research.google.com/github/Arslanmp/Final-Project-DBA-Bootcamp/blob/main/Final_Project_Arslan.ipynb\" target=\"_parent\"><img src=\"https://colab.research.google.com/assets/colab-badge.svg\" alt=\"Open In Colab\"/></a>"
      ]
    },
    {
      "cell_type": "markdown",
      "source": [
        "# Mengimpor Package"
      ],
      "metadata": {
        "id": "bSCVi8VVmomx"
      }
    },
    {
      "cell_type": "code",
      "execution_count": null,
      "metadata": {
        "id": "iXnlmRe7ZmO1"
      },
      "outputs": [],
      "source": [
        "import pandas as pd\n",
        "import matplotlib.pyplot as plt\n",
        "import numpy as np\n",
        "import seaborn as sns\n",
        "from time import time\n",
        "from sklearn.cluster import KMeans, MiniBatchKMeans\n",
        "from sklearn.metrics import silhouette_score\n",
        "from sklearn.preprocessing import StandardScaler, OneHotEncoder\n",
        "from yellowbrick.cluster import SilhouetteVisualizer\n",
        "from sklearn.model_selection import train_test_split\n",
        "from sklearn.preprocessing import StandardScaler, OrdinalEncoder, OneHotEncoder\n",
        "from sklearn.pipeline import Pipeline\n",
        "from sklearn.preprocessing import StandardScaler,PolynomialFeatures\n",
        "from sklearn.linear_model import LinearRegression\n",
        "%matplotlib inline\n",
        "import math\n",
        "from collections import Counter, defaultdict\n",
        "from functools import partial\n",
        "from pprint import pprint\n",
        "plt.style.use(\"fivethirtyeight\")"
      ]
    },
    {
      "cell_type": "markdown",
      "source": [
        "# Mounting Gdrive"
      ],
      "metadata": {
        "id": "Rlw7FTpooHkZ"
      }
    },
    {
      "cell_type": "code",
      "source": [
        "from google.colab import drive\n",
        "drive.mount('/content/drive')"
      ],
      "metadata": {
        "colab": {
          "base_uri": "https://localhost:8080/"
        },
        "id": "wW_Nl2zfn0dh",
        "outputId": "b13d2978-b7a3-4afe-9726-125a22a8074f"
      },
      "execution_count": null,
      "outputs": [
        {
          "output_type": "stream",
          "name": "stdout",
          "text": [
            "Mounted at /content/drive\n"
          ]
        }
      ]
    },
    {
      "cell_type": "markdown",
      "source": [
        "# Mengimpor Data\n",
        "Di sini saya menggunakan dua data, yakni Data_inventory dan Distribution_center"
      ],
      "metadata": {
        "id": "o2fmBu8unuCG"
      }
    },
    {
      "cell_type": "code",
      "source": [
        "Data_inventory=pd.read_csv(\"/content/drive/MyDrive/DATASET/inventory_items_baru (1).csv\")\n",
        "Distribution_center=pd.read_csv(\"/content/drive/MyDrive/DATASET/distribution_centers.csv\")"
      ],
      "metadata": {
        "id": "6vV_aCS9aFDA"
      },
      "execution_count": null,
      "outputs": []
    },
    {
      "cell_type": "markdown",
      "source": [
        "# Menampilkan 5 baris teratas Data_inventory"
      ],
      "metadata": {
        "id": "Syad4uwIooPN"
      }
    },
    {
      "cell_type": "code",
      "source": [
        "Data_inventory.head()"
      ],
      "metadata": {
        "colab": {
          "base_uri": "https://localhost:8080/",
          "height": 530
        },
        "id": "ohWXF9yYot9a",
        "outputId": "07679899-679e-41a2-c015-c47aca330135"
      },
      "execution_count": null,
      "outputs": [
        {
          "output_type": "execute_result",
          "data": {
            "text/plain": [
              "      id  product_id                 created_at                    sold_at  \\\n",
              "0  90967       16898  2021-07-19 02:20:10+00:00  2021-07-20 14:34:10+00:00   \n",
              "1  90968       16898  2020-04-13 07:46:00+00:00                        NaN   \n",
              "2  90969       16898  2020-09-02 17:43:00+00:00                        NaN   \n",
              "3  90970       16898  2021-08-19 15:17:00+00:00                        NaN   \n",
              "4  96715       16898  2020-05-09 11:16:10+00:00  2020-06-23 23:59:10+00:00   \n",
              "\n",
              "     cost product_category                           product_name  \\\n",
              "0  13.925      Tops & Tees  Quiksilver Waterman Men's On The Rise   \n",
              "1  13.925      Tops & Tees  Quiksilver Waterman Men's On The Rise   \n",
              "2  13.925      Tops & Tees  Quiksilver Waterman Men's On The Rise   \n",
              "3  13.925      Tops & Tees  Quiksilver Waterman Men's On The Rise   \n",
              "4  13.925      Tops & Tees  Quiksilver Waterman Men's On The Rise   \n",
              "\n",
              "  product_brand  product_retail_price product_department  \\\n",
              "0           NaN                  25.0                Men   \n",
              "1           NaN                  25.0                Men   \n",
              "2           NaN                  25.0                Men   \n",
              "3           NaN                  25.0                Men   \n",
              "4           NaN                  25.0                Men   \n",
              "\n",
              "                        product_sku  product_distribution_center_id  \n",
              "0  22811EE19846217512507785E74D12CC                               3  \n",
              "1  22811EE19846217512507785E74D12CC                               3  \n",
              "2  22811EE19846217512507785E74D12CC                               3  \n",
              "3  22811EE19846217512507785E74D12CC                               3  \n",
              "4  22811EE19846217512507785E74D12CC                               3  "
            ],
            "text/html": [
              "\n",
              "  <div id=\"df-d52b9107-c6c2-46ae-b229-2f6299229d4d\">\n",
              "    <div class=\"colab-df-container\">\n",
              "      <div>\n",
              "<style scoped>\n",
              "    .dataframe tbody tr th:only-of-type {\n",
              "        vertical-align: middle;\n",
              "    }\n",
              "\n",
              "    .dataframe tbody tr th {\n",
              "        vertical-align: top;\n",
              "    }\n",
              "\n",
              "    .dataframe thead th {\n",
              "        text-align: right;\n",
              "    }\n",
              "</style>\n",
              "<table border=\"1\" class=\"dataframe\">\n",
              "  <thead>\n",
              "    <tr style=\"text-align: right;\">\n",
              "      <th></th>\n",
              "      <th>id</th>\n",
              "      <th>product_id</th>\n",
              "      <th>created_at</th>\n",
              "      <th>sold_at</th>\n",
              "      <th>cost</th>\n",
              "      <th>product_category</th>\n",
              "      <th>product_name</th>\n",
              "      <th>product_brand</th>\n",
              "      <th>product_retail_price</th>\n",
              "      <th>product_department</th>\n",
              "      <th>product_sku</th>\n",
              "      <th>product_distribution_center_id</th>\n",
              "    </tr>\n",
              "  </thead>\n",
              "  <tbody>\n",
              "    <tr>\n",
              "      <th>0</th>\n",
              "      <td>90967</td>\n",
              "      <td>16898</td>\n",
              "      <td>2021-07-19 02:20:10+00:00</td>\n",
              "      <td>2021-07-20 14:34:10+00:00</td>\n",
              "      <td>13.925</td>\n",
              "      <td>Tops &amp; Tees</td>\n",
              "      <td>Quiksilver Waterman Men's On The Rise</td>\n",
              "      <td>NaN</td>\n",
              "      <td>25.0</td>\n",
              "      <td>Men</td>\n",
              "      <td>22811EE19846217512507785E74D12CC</td>\n",
              "      <td>3</td>\n",
              "    </tr>\n",
              "    <tr>\n",
              "      <th>1</th>\n",
              "      <td>90968</td>\n",
              "      <td>16898</td>\n",
              "      <td>2020-04-13 07:46:00+00:00</td>\n",
              "      <td>NaN</td>\n",
              "      <td>13.925</td>\n",
              "      <td>Tops &amp; Tees</td>\n",
              "      <td>Quiksilver Waterman Men's On The Rise</td>\n",
              "      <td>NaN</td>\n",
              "      <td>25.0</td>\n",
              "      <td>Men</td>\n",
              "      <td>22811EE19846217512507785E74D12CC</td>\n",
              "      <td>3</td>\n",
              "    </tr>\n",
              "    <tr>\n",
              "      <th>2</th>\n",
              "      <td>90969</td>\n",
              "      <td>16898</td>\n",
              "      <td>2020-09-02 17:43:00+00:00</td>\n",
              "      <td>NaN</td>\n",
              "      <td>13.925</td>\n",
              "      <td>Tops &amp; Tees</td>\n",
              "      <td>Quiksilver Waterman Men's On The Rise</td>\n",
              "      <td>NaN</td>\n",
              "      <td>25.0</td>\n",
              "      <td>Men</td>\n",
              "      <td>22811EE19846217512507785E74D12CC</td>\n",
              "      <td>3</td>\n",
              "    </tr>\n",
              "    <tr>\n",
              "      <th>3</th>\n",
              "      <td>90970</td>\n",
              "      <td>16898</td>\n",
              "      <td>2021-08-19 15:17:00+00:00</td>\n",
              "      <td>NaN</td>\n",
              "      <td>13.925</td>\n",
              "      <td>Tops &amp; Tees</td>\n",
              "      <td>Quiksilver Waterman Men's On The Rise</td>\n",
              "      <td>NaN</td>\n",
              "      <td>25.0</td>\n",
              "      <td>Men</td>\n",
              "      <td>22811EE19846217512507785E74D12CC</td>\n",
              "      <td>3</td>\n",
              "    </tr>\n",
              "    <tr>\n",
              "      <th>4</th>\n",
              "      <td>96715</td>\n",
              "      <td>16898</td>\n",
              "      <td>2020-05-09 11:16:10+00:00</td>\n",
              "      <td>2020-06-23 23:59:10+00:00</td>\n",
              "      <td>13.925</td>\n",
              "      <td>Tops &amp; Tees</td>\n",
              "      <td>Quiksilver Waterman Men's On The Rise</td>\n",
              "      <td>NaN</td>\n",
              "      <td>25.0</td>\n",
              "      <td>Men</td>\n",
              "      <td>22811EE19846217512507785E74D12CC</td>\n",
              "      <td>3</td>\n",
              "    </tr>\n",
              "  </tbody>\n",
              "</table>\n",
              "</div>\n",
              "      <button class=\"colab-df-convert\" onclick=\"convertToInteractive('df-d52b9107-c6c2-46ae-b229-2f6299229d4d')\"\n",
              "              title=\"Convert this dataframe to an interactive table.\"\n",
              "              style=\"display:none;\">\n",
              "        \n",
              "  <svg xmlns=\"http://www.w3.org/2000/svg\" height=\"24px\"viewBox=\"0 0 24 24\"\n",
              "       width=\"24px\">\n",
              "    <path d=\"M0 0h24v24H0V0z\" fill=\"none\"/>\n",
              "    <path d=\"M18.56 5.44l.94 2.06.94-2.06 2.06-.94-2.06-.94-.94-2.06-.94 2.06-2.06.94zm-11 1L8.5 8.5l.94-2.06 2.06-.94-2.06-.94L8.5 2.5l-.94 2.06-2.06.94zm10 10l.94 2.06.94-2.06 2.06-.94-2.06-.94-.94-2.06-.94 2.06-2.06.94z\"/><path d=\"M17.41 7.96l-1.37-1.37c-.4-.4-.92-.59-1.43-.59-.52 0-1.04.2-1.43.59L10.3 9.45l-7.72 7.72c-.78.78-.78 2.05 0 2.83L4 21.41c.39.39.9.59 1.41.59.51 0 1.02-.2 1.41-.59l7.78-7.78 2.81-2.81c.8-.78.8-2.07 0-2.86zM5.41 20L4 18.59l7.72-7.72 1.47 1.35L5.41 20z\"/>\n",
              "  </svg>\n",
              "      </button>\n",
              "      \n",
              "  <style>\n",
              "    .colab-df-container {\n",
              "      display:flex;\n",
              "      flex-wrap:wrap;\n",
              "      gap: 12px;\n",
              "    }\n",
              "\n",
              "    .colab-df-convert {\n",
              "      background-color: #E8F0FE;\n",
              "      border: none;\n",
              "      border-radius: 50%;\n",
              "      cursor: pointer;\n",
              "      display: none;\n",
              "      fill: #1967D2;\n",
              "      height: 32px;\n",
              "      padding: 0 0 0 0;\n",
              "      width: 32px;\n",
              "    }\n",
              "\n",
              "    .colab-df-convert:hover {\n",
              "      background-color: #E2EBFA;\n",
              "      box-shadow: 0px 1px 2px rgba(60, 64, 67, 0.3), 0px 1px 3px 1px rgba(60, 64, 67, 0.15);\n",
              "      fill: #174EA6;\n",
              "    }\n",
              "\n",
              "    [theme=dark] .colab-df-convert {\n",
              "      background-color: #3B4455;\n",
              "      fill: #D2E3FC;\n",
              "    }\n",
              "\n",
              "    [theme=dark] .colab-df-convert:hover {\n",
              "      background-color: #434B5C;\n",
              "      box-shadow: 0px 1px 3px 1px rgba(0, 0, 0, 0.15);\n",
              "      filter: drop-shadow(0px 1px 2px rgba(0, 0, 0, 0.3));\n",
              "      fill: #FFFFFF;\n",
              "    }\n",
              "  </style>\n",
              "\n",
              "      <script>\n",
              "        const buttonEl =\n",
              "          document.querySelector('#df-d52b9107-c6c2-46ae-b229-2f6299229d4d button.colab-df-convert');\n",
              "        buttonEl.style.display =\n",
              "          google.colab.kernel.accessAllowed ? 'block' : 'none';\n",
              "\n",
              "        async function convertToInteractive(key) {\n",
              "          const element = document.querySelector('#df-d52b9107-c6c2-46ae-b229-2f6299229d4d');\n",
              "          const dataTable =\n",
              "            await google.colab.kernel.invokeFunction('convertToInteractive',\n",
              "                                                     [key], {});\n",
              "          if (!dataTable) return;\n",
              "\n",
              "          const docLinkHtml = 'Like what you see? Visit the ' +\n",
              "            '<a target=\"_blank\" href=https://colab.research.google.com/notebooks/data_table.ipynb>data table notebook</a>'\n",
              "            + ' to learn more about interactive tables.';\n",
              "          element.innerHTML = '';\n",
              "          dataTable['output_type'] = 'display_data';\n",
              "          await google.colab.output.renderOutput(dataTable, element);\n",
              "          const docLink = document.createElement('div');\n",
              "          docLink.innerHTML = docLinkHtml;\n",
              "          element.appendChild(docLink);\n",
              "        }\n",
              "      </script>\n",
              "    </div>\n",
              "  </div>\n",
              "  "
            ]
          },
          "metadata": {},
          "execution_count": 5
        }
      ]
    },
    {
      "cell_type": "markdown",
      "source": [
        "# Menampilkan Data Distribution_center"
      ],
      "metadata": {
        "id": "r1cA_-C3pUt_"
      }
    },
    {
      "cell_type": "code",
      "source": [
        "Distribution_center"
      ],
      "metadata": {
        "colab": {
          "base_uri": "https://localhost:8080/",
          "height": 363
        },
        "id": "-xq5A5zYpdGJ",
        "outputId": "d24f2c11-017a-4341-de7d-16b36406ade5"
      },
      "execution_count": null,
      "outputs": [
        {
          "output_type": "execute_result",
          "data": {
            "text/plain": [
              "   id                                         name  latitude  longitude\n",
              "0   1                                   Memphis TN   35.1174   -89.9711\n",
              "1   2                                   Chicago IL   41.8369   -87.6847\n",
              "2   3                                   Houston TX   29.7604   -95.3698\n",
              "3   4                               Los Angeles CA   34.0500  -118.2500\n",
              "4   5                               New Orleans LA   29.9500   -90.0667\n",
              "5   6  Port Authority of New York/New Jersey NY/NJ   40.6340   -73.7834\n",
              "6   7                              Philadelphia PA   39.9500   -75.1667\n",
              "7   8                                    Mobile AL   30.6944   -88.0431\n",
              "8   9                                Charleston SC   32.7833   -79.9333\n",
              "9  10                                  Savannah GA   32.0167   -81.1167"
            ],
            "text/html": [
              "\n",
              "  <div id=\"df-e7b851c8-116f-4f85-9445-5501cf2b87a9\">\n",
              "    <div class=\"colab-df-container\">\n",
              "      <div>\n",
              "<style scoped>\n",
              "    .dataframe tbody tr th:only-of-type {\n",
              "        vertical-align: middle;\n",
              "    }\n",
              "\n",
              "    .dataframe tbody tr th {\n",
              "        vertical-align: top;\n",
              "    }\n",
              "\n",
              "    .dataframe thead th {\n",
              "        text-align: right;\n",
              "    }\n",
              "</style>\n",
              "<table border=\"1\" class=\"dataframe\">\n",
              "  <thead>\n",
              "    <tr style=\"text-align: right;\">\n",
              "      <th></th>\n",
              "      <th>id</th>\n",
              "      <th>name</th>\n",
              "      <th>latitude</th>\n",
              "      <th>longitude</th>\n",
              "    </tr>\n",
              "  </thead>\n",
              "  <tbody>\n",
              "    <tr>\n",
              "      <th>0</th>\n",
              "      <td>1</td>\n",
              "      <td>Memphis TN</td>\n",
              "      <td>35.1174</td>\n",
              "      <td>-89.9711</td>\n",
              "    </tr>\n",
              "    <tr>\n",
              "      <th>1</th>\n",
              "      <td>2</td>\n",
              "      <td>Chicago IL</td>\n",
              "      <td>41.8369</td>\n",
              "      <td>-87.6847</td>\n",
              "    </tr>\n",
              "    <tr>\n",
              "      <th>2</th>\n",
              "      <td>3</td>\n",
              "      <td>Houston TX</td>\n",
              "      <td>29.7604</td>\n",
              "      <td>-95.3698</td>\n",
              "    </tr>\n",
              "    <tr>\n",
              "      <th>3</th>\n",
              "      <td>4</td>\n",
              "      <td>Los Angeles CA</td>\n",
              "      <td>34.0500</td>\n",
              "      <td>-118.2500</td>\n",
              "    </tr>\n",
              "    <tr>\n",
              "      <th>4</th>\n",
              "      <td>5</td>\n",
              "      <td>New Orleans LA</td>\n",
              "      <td>29.9500</td>\n",
              "      <td>-90.0667</td>\n",
              "    </tr>\n",
              "    <tr>\n",
              "      <th>5</th>\n",
              "      <td>6</td>\n",
              "      <td>Port Authority of New York/New Jersey NY/NJ</td>\n",
              "      <td>40.6340</td>\n",
              "      <td>-73.7834</td>\n",
              "    </tr>\n",
              "    <tr>\n",
              "      <th>6</th>\n",
              "      <td>7</td>\n",
              "      <td>Philadelphia PA</td>\n",
              "      <td>39.9500</td>\n",
              "      <td>-75.1667</td>\n",
              "    </tr>\n",
              "    <tr>\n",
              "      <th>7</th>\n",
              "      <td>8</td>\n",
              "      <td>Mobile AL</td>\n",
              "      <td>30.6944</td>\n",
              "      <td>-88.0431</td>\n",
              "    </tr>\n",
              "    <tr>\n",
              "      <th>8</th>\n",
              "      <td>9</td>\n",
              "      <td>Charleston SC</td>\n",
              "      <td>32.7833</td>\n",
              "      <td>-79.9333</td>\n",
              "    </tr>\n",
              "    <tr>\n",
              "      <th>9</th>\n",
              "      <td>10</td>\n",
              "      <td>Savannah GA</td>\n",
              "      <td>32.0167</td>\n",
              "      <td>-81.1167</td>\n",
              "    </tr>\n",
              "  </tbody>\n",
              "</table>\n",
              "</div>\n",
              "      <button class=\"colab-df-convert\" onclick=\"convertToInteractive('df-e7b851c8-116f-4f85-9445-5501cf2b87a9')\"\n",
              "              title=\"Convert this dataframe to an interactive table.\"\n",
              "              style=\"display:none;\">\n",
              "        \n",
              "  <svg xmlns=\"http://www.w3.org/2000/svg\" height=\"24px\"viewBox=\"0 0 24 24\"\n",
              "       width=\"24px\">\n",
              "    <path d=\"M0 0h24v24H0V0z\" fill=\"none\"/>\n",
              "    <path d=\"M18.56 5.44l.94 2.06.94-2.06 2.06-.94-2.06-.94-.94-2.06-.94 2.06-2.06.94zm-11 1L8.5 8.5l.94-2.06 2.06-.94-2.06-.94L8.5 2.5l-.94 2.06-2.06.94zm10 10l.94 2.06.94-2.06 2.06-.94-2.06-.94-.94-2.06-.94 2.06-2.06.94z\"/><path d=\"M17.41 7.96l-1.37-1.37c-.4-.4-.92-.59-1.43-.59-.52 0-1.04.2-1.43.59L10.3 9.45l-7.72 7.72c-.78.78-.78 2.05 0 2.83L4 21.41c.39.39.9.59 1.41.59.51 0 1.02-.2 1.41-.59l7.78-7.78 2.81-2.81c.8-.78.8-2.07 0-2.86zM5.41 20L4 18.59l7.72-7.72 1.47 1.35L5.41 20z\"/>\n",
              "  </svg>\n",
              "      </button>\n",
              "      \n",
              "  <style>\n",
              "    .colab-df-container {\n",
              "      display:flex;\n",
              "      flex-wrap:wrap;\n",
              "      gap: 12px;\n",
              "    }\n",
              "\n",
              "    .colab-df-convert {\n",
              "      background-color: #E8F0FE;\n",
              "      border: none;\n",
              "      border-radius: 50%;\n",
              "      cursor: pointer;\n",
              "      display: none;\n",
              "      fill: #1967D2;\n",
              "      height: 32px;\n",
              "      padding: 0 0 0 0;\n",
              "      width: 32px;\n",
              "    }\n",
              "\n",
              "    .colab-df-convert:hover {\n",
              "      background-color: #E2EBFA;\n",
              "      box-shadow: 0px 1px 2px rgba(60, 64, 67, 0.3), 0px 1px 3px 1px rgba(60, 64, 67, 0.15);\n",
              "      fill: #174EA6;\n",
              "    }\n",
              "\n",
              "    [theme=dark] .colab-df-convert {\n",
              "      background-color: #3B4455;\n",
              "      fill: #D2E3FC;\n",
              "    }\n",
              "\n",
              "    [theme=dark] .colab-df-convert:hover {\n",
              "      background-color: #434B5C;\n",
              "      box-shadow: 0px 1px 3px 1px rgba(0, 0, 0, 0.15);\n",
              "      filter: drop-shadow(0px 1px 2px rgba(0, 0, 0, 0.3));\n",
              "      fill: #FFFFFF;\n",
              "    }\n",
              "  </style>\n",
              "\n",
              "      <script>\n",
              "        const buttonEl =\n",
              "          document.querySelector('#df-e7b851c8-116f-4f85-9445-5501cf2b87a9 button.colab-df-convert');\n",
              "        buttonEl.style.display =\n",
              "          google.colab.kernel.accessAllowed ? 'block' : 'none';\n",
              "\n",
              "        async function convertToInteractive(key) {\n",
              "          const element = document.querySelector('#df-e7b851c8-116f-4f85-9445-5501cf2b87a9');\n",
              "          const dataTable =\n",
              "            await google.colab.kernel.invokeFunction('convertToInteractive',\n",
              "                                                     [key], {});\n",
              "          if (!dataTable) return;\n",
              "\n",
              "          const docLinkHtml = 'Like what you see? Visit the ' +\n",
              "            '<a target=\"_blank\" href=https://colab.research.google.com/notebooks/data_table.ipynb>data table notebook</a>'\n",
              "            + ' to learn more about interactive tables.';\n",
              "          element.innerHTML = '';\n",
              "          dataTable['output_type'] = 'display_data';\n",
              "          await google.colab.output.renderOutput(dataTable, element);\n",
              "          const docLink = document.createElement('div');\n",
              "          docLink.innerHTML = docLinkHtml;\n",
              "          element.appendChild(docLink);\n",
              "        }\n",
              "      </script>\n",
              "    </div>\n",
              "  </div>\n",
              "  "
            ]
          },
          "metadata": {},
          "execution_count": 6
        }
      ]
    },
    {
      "cell_type": "markdown",
      "source": [
        "# Menampilkan dimensi data"
      ],
      "metadata": {
        "id": "gDCZxupQqIb7"
      }
    },
    {
      "cell_type": "code",
      "source": [
        "Data_inventory.shape"
      ],
      "metadata": {
        "colab": {
          "base_uri": "https://localhost:8080/"
        },
        "id": "AHeNxoynqM6B",
        "outputId": "3ab6c071-30e3-4051-c108-3f69eb6e1f0c"
      },
      "execution_count": null,
      "outputs": [
        {
          "output_type": "execute_result",
          "data": {
            "text/plain": [
              "(487394, 12)"
            ]
          },
          "metadata": {},
          "execution_count": 7
        }
      ]
    },
    {
      "cell_type": "code",
      "source": [
        "Distribution_center.shape"
      ],
      "metadata": {
        "colab": {
          "base_uri": "https://localhost:8080/"
        },
        "id": "SIOFPQDbMFbs",
        "outputId": "3fa1e05e-237f-40bf-a1e8-dc4d66d4eeb8"
      },
      "execution_count": null,
      "outputs": [
        {
          "output_type": "execute_result",
          "data": {
            "text/plain": [
              "(10, 4)"
            ]
          },
          "metadata": {},
          "execution_count": 8
        }
      ]
    },
    {
      "cell_type": "markdown",
      "source": [
        "# Menampilkan Kolom"
      ],
      "metadata": {
        "id": "MSiXGDfrqVfZ"
      }
    },
    {
      "cell_type": "code",
      "source": [
        "Data_inventory.columns"
      ],
      "metadata": {
        "colab": {
          "base_uri": "https://localhost:8080/"
        },
        "id": "SgiyLoNYdE23",
        "outputId": "42a3c407-7c66-46a3-ad22-a910763f252f"
      },
      "execution_count": null,
      "outputs": [
        {
          "output_type": "execute_result",
          "data": {
            "text/plain": [
              "Index(['id', 'product_id', 'created_at', 'sold_at', 'cost', 'product_category',\n",
              "       'product_name', 'product_brand', 'product_retail_price',\n",
              "       'product_department', 'product_sku', 'product_distribution_center_id'],\n",
              "      dtype='object')"
            ]
          },
          "metadata": {},
          "execution_count": 9
        }
      ]
    },
    {
      "cell_type": "code",
      "source": [
        "Distribution_center.columns"
      ],
      "metadata": {
        "colab": {
          "base_uri": "https://localhost:8080/"
        },
        "id": "F6N1vY3WQiMw",
        "outputId": "32081586-8777-41fa-ffb6-833d45426fdc"
      },
      "execution_count": null,
      "outputs": [
        {
          "output_type": "execute_result",
          "data": {
            "text/plain": [
              "Index(['id', 'name', 'latitude', 'longitude'], dtype='object')"
            ]
          },
          "metadata": {},
          "execution_count": 10
        }
      ]
    },
    {
      "cell_type": "markdown",
      "source": [
        "# Menampilkan Tipe Data"
      ],
      "metadata": {
        "id": "A34nYNPtrEJP"
      }
    },
    {
      "cell_type": "code",
      "source": [
        "Data_inventory.dtypes"
      ],
      "metadata": {
        "colab": {
          "base_uri": "https://localhost:8080/"
        },
        "id": "6rRHHy0irJUX",
        "outputId": "ab868f57-bdbb-4021-e3fc-47d8226e6eef"
      },
      "execution_count": null,
      "outputs": [
        {
          "output_type": "execute_result",
          "data": {
            "text/plain": [
              "id                                  int64\n",
              "product_id                          int64\n",
              "created_at                         object\n",
              "sold_at                            object\n",
              "cost                              float64\n",
              "product_category                   object\n",
              "product_name                       object\n",
              "product_brand                      object\n",
              "product_retail_price              float64\n",
              "product_department                 object\n",
              "product_sku                        object\n",
              "product_distribution_center_id      int64\n",
              "dtype: object"
            ]
          },
          "metadata": {},
          "execution_count": 5
        }
      ]
    },
    {
      "cell_type": "code",
      "source": [
        "Distribution_center.dtypes"
      ],
      "metadata": {
        "colab": {
          "base_uri": "https://localhost:8080/"
        },
        "id": "qIW3b3u2reed",
        "outputId": "8329f7f7-e502-4af1-9675-dff2db38ebc7"
      },
      "execution_count": null,
      "outputs": [
        {
          "output_type": "execute_result",
          "data": {
            "text/plain": [
              "id             int64\n",
              "name          object\n",
              "latitude     float64\n",
              "longitude    float64\n",
              "dtype: object"
            ]
          },
          "metadata": {},
          "execution_count": 6
        }
      ]
    },
    {
      "cell_type": "markdown",
      "source": [
        "Insight :\n",
        "\n",
        "\n",
        "1.  Pada Data_inventory, terdapat 5 kolom yang perlu diubah tipe datanya, yakni 'id', 'product_id', dan 'product_distribution_center_id' dari integer ke object, dan 'created_at' dan 'sold_at' dari object ke datetime\n",
        "2.   Pada Distribution_center terdapat satu kolom yang perlu diubah tipe datanya, yakni 'id' dari integer ke object\n",
        "\n"
      ],
      "metadata": {
        "id": "FrbjrGyDsHwd"
      }
    },
    {
      "cell_type": "markdown",
      "source": [
        "# Mengubah Tipe Data"
      ],
      "metadata": {
        "id": "dO_VipbkuDJO"
      }
    },
    {
      "cell_type": "markdown",
      "source": [
        "\n",
        "1.  Pada Data_inventory, terdapat 5 kolom yang perlu diubah tipe datanya, yakni 'id', 'product_id', dan 'product_distribution_center_id' dari integer ke object, dan 'created_at' dan 'sold_at' dari object ke datetime\n",
        "2.   Pada Distribution_center terdapat satu kolom yang perlu diubah tipe datanya, yakni 'id' dari integer ke object"
      ],
      "metadata": {
        "id": "pYkwwKvvYaM0"
      }
    },
    {
      "cell_type": "code",
      "source": [
        "Data_inventory['id'] = Data_inventory['id'].astype(\"object\")\n",
        "Data_inventory['product_id'] = Data_inventory['product_id'].astype(\"object\")\n",
        "Data_inventory['product_distribution_center_id'] = Data_inventory['product_distribution_center_id'].astype(\"object\")\n",
        "Data_inventory['created_at'] = Data_inventory['created_at'].astype(\"datetime64\")\n",
        "Data_inventory['sold_at'] = Data_inventory['sold_at'].astype(\"datetime64\")\n",
        "Distribution_center['id'] = Distribution_center['id'].astype(\"object\")"
      ],
      "metadata": {
        "id": "uRySpi8auERN"
      },
      "execution_count": null,
      "outputs": []
    },
    {
      "cell_type": "markdown",
      "source": [
        "Mari kita cek hasilnya"
      ],
      "metadata": {
        "id": "ycMkPyNevGKy"
      }
    },
    {
      "cell_type": "code",
      "source": [
        "Data_inventory.dtypes"
      ],
      "metadata": {
        "colab": {
          "base_uri": "https://localhost:8080/"
        },
        "id": "pt-F8zvsvK4I",
        "outputId": "ea26bb76-3eed-45cf-88d6-dc400ecece8b"
      },
      "execution_count": null,
      "outputs": [
        {
          "output_type": "execute_result",
          "data": {
            "text/plain": [
              "id                                        object\n",
              "product_id                                object\n",
              "created_at                        datetime64[ns]\n",
              "sold_at                           datetime64[ns]\n",
              "cost                                     float64\n",
              "product_category                          object\n",
              "product_name                              object\n",
              "product_brand                             object\n",
              "product_retail_price                     float64\n",
              "product_department                        object\n",
              "product_sku                               object\n",
              "product_distribution_center_id            object\n",
              "dtype: object"
            ]
          },
          "metadata": {},
          "execution_count": 8
        }
      ]
    },
    {
      "cell_type": "code",
      "source": [
        "Distribution_center.dtypes"
      ],
      "metadata": {
        "colab": {
          "base_uri": "https://localhost:8080/"
        },
        "id": "I2jgox8bvk7E",
        "outputId": "f1f98e75-1b64-4777-abbf-72c7a7554e05"
      },
      "execution_count": null,
      "outputs": [
        {
          "output_type": "execute_result",
          "data": {
            "text/plain": [
              "id            object\n",
              "name          object\n",
              "latitude     float64\n",
              "longitude    float64\n",
              "dtype: object"
            ]
          },
          "metadata": {},
          "execution_count": 6
        }
      ]
    },
    {
      "cell_type": "markdown",
      "source": [
        "Berhasil!"
      ],
      "metadata": {
        "id": "AwPWboqwyp8t"
      }
    },
    {
      "cell_type": "markdown",
      "source": [
        "# Checking & Handling Missing Value"
      ],
      "metadata": {
        "id": "_ZFFnvmmvyGD"
      }
    },
    {
      "cell_type": "code",
      "source": [
        "Distribution_center.isnull().sum()"
      ],
      "metadata": {
        "colab": {
          "base_uri": "https://localhost:8080/"
        },
        "id": "HiFCDxgfwTBa",
        "outputId": "a2128a6e-36b6-4e2a-988e-044d25eb5bc6"
      },
      "execution_count": null,
      "outputs": [
        {
          "output_type": "execute_result",
          "data": {
            "text/plain": [
              "id           0\n",
              "name         0\n",
              "latitude     0\n",
              "longitude    0\n",
              "dtype: int64"
            ]
          },
          "metadata": {},
          "execution_count": 10
        }
      ]
    },
    {
      "cell_type": "code",
      "source": [
        "Data_inventory.isnull().sum()"
      ],
      "metadata": {
        "colab": {
          "base_uri": "https://localhost:8080/"
        },
        "id": "KiAHJb2hfH6p",
        "outputId": "ebf64f2f-2fb1-4a62-fd7a-158978e7b65a"
      },
      "execution_count": null,
      "outputs": [
        {
          "output_type": "execute_result",
          "data": {
            "text/plain": [
              "id                                     0\n",
              "product_id                             0\n",
              "created_at                             0\n",
              "sold_at                           306886\n",
              "cost                                   0\n",
              "product_category                       0\n",
              "product_name                          35\n",
              "product_brand                        374\n",
              "product_retail_price                   0\n",
              "product_department                     0\n",
              "product_sku                            0\n",
              "product_distribution_center_id         0\n",
              "dtype: int64"
            ]
          },
          "metadata": {},
          "execution_count": 12
        }
      ]
    },
    {
      "cell_type": "markdown",
      "source": [
        "insight : \n",
        "1. Missing value pada kolom sold_at bermakna bahwa terdapat 306.866 produk yang belum terjual. Saya akan melakukan dropna pada missing value di kolom ini karena analisis yang akan saya lakukan memerlukan data pada produk yang sudah terjual. \n",
        "2. Missing value pada product_name dan product brand akan kita biarkan dulu"
      ],
      "metadata": {
        "id": "o14GlmCcChxC"
      }
    },
    {
      "cell_type": "code",
      "source": [
        "Inventori_clean=Data_inventory.dropna(subset=['sold_at'])"
      ],
      "metadata": {
        "id": "qBwB-cHLZIgs"
      },
      "execution_count": null,
      "outputs": []
    },
    {
      "cell_type": "markdown",
      "source": [
        "Kita cek hasilnya"
      ],
      "metadata": {
        "id": "bZ_9o0FiFTLK"
      }
    },
    {
      "cell_type": "code",
      "source": [
        "Inventori_clean.isnull().sum()"
      ],
      "metadata": {
        "colab": {
          "base_uri": "https://localhost:8080/"
        },
        "id": "4L14nGJNFWUQ",
        "outputId": "740c03e6-13f2-4a39-ea37-ab2368b49cab"
      },
      "execution_count": null,
      "outputs": [
        {
          "output_type": "execute_result",
          "data": {
            "text/plain": [
              "id                                  0\n",
              "product_id                          0\n",
              "created_at                          0\n",
              "sold_at                             0\n",
              "cost                                0\n",
              "product_category                    0\n",
              "product_name                       12\n",
              "product_brand                     143\n",
              "product_retail_price                0\n",
              "product_department                  0\n",
              "product_sku                         0\n",
              "product_distribution_center_id      0\n",
              "dtype: int64"
            ]
          },
          "metadata": {},
          "execution_count": 14
        }
      ]
    },
    {
      "cell_type": "markdown",
      "source": [
        "Insight \n",
        "1. Untuk missing value di kolom sold_at sudah hilang, ini bermakna data saat ini sepenuhnya berisi tentang produk-produk yang sudah terjual\n",
        "2. Ternyata untuk product_name dan product_brand masih memiliki missing value (meskipun sudah berkurang). Setelah dilakukan analisa lebih lanjut, seperti pencocokan dengan product_id dan mengintip di data product, ternyata data ini memang kosong. Ini bermakna, ada 12 produk yang meski sudah terjual tapi tidak memiliki nama produk dan 143 produk yang terjual tidak memiliki nama merk\n",
        "3. Untuk missing value di kolom product_name akan saya isi dengan \"tanpa_nama\" dan missing value di kolom product brand akan saya isi dengan \"tanpa_brand\"\n",
        "\n"
      ],
      "metadata": {
        "id": "tE3Detf3FiJG"
      }
    },
    {
      "cell_type": "code",
      "source": [
        "Inventori_clean[[\"product_name\"]] = Inventori_clean[[\"product_name\"]].fillna(\"tanpa_nama\")\n",
        "Inventori_clean[[\"product_brand\"]] = Inventori_clean[[\"product_brand\"]].fillna(\"tanpa_brand\")"
      ],
      "metadata": {
        "colab": {
          "base_uri": "https://localhost:8080/"
        },
        "id": "QpQMUdsDewPG",
        "outputId": "0c67d80f-1f05-413e-f217-d8df8433551a"
      },
      "execution_count": null,
      "outputs": [
        {
          "output_type": "stream",
          "name": "stderr",
          "text": [
            "/usr/local/lib/python3.7/dist-packages/pandas/core/frame.py:3641: SettingWithCopyWarning: \n",
            "A value is trying to be set on a copy of a slice from a DataFrame.\n",
            "Try using .loc[row_indexer,col_indexer] = value instead\n",
            "\n",
            "See the caveats in the documentation: https://pandas.pydata.org/pandas-docs/stable/user_guide/indexing.html#returning-a-view-versus-a-copy\n",
            "  self[k1] = value[k2]\n"
          ]
        }
      ]
    },
    {
      "cell_type": "markdown",
      "source": [
        "Kita cek lagi!"
      ],
      "metadata": {
        "id": "Kkh0AnzPXu5O"
      }
    },
    {
      "cell_type": "code",
      "source": [
        "Inventori_clean.info()"
      ],
      "metadata": {
        "colab": {
          "base_uri": "https://localhost:8080/"
        },
        "id": "v2vb5vFZa5mZ",
        "outputId": "2c61c353-6737-43fc-f949-837629a6c75b"
      },
      "execution_count": null,
      "outputs": [
        {
          "output_type": "stream",
          "name": "stdout",
          "text": [
            "<class 'pandas.core.frame.DataFrame'>\n",
            "Int64Index: 180508 entries, 0 to 487392\n",
            "Data columns (total 12 columns):\n",
            " #   Column                          Non-Null Count   Dtype         \n",
            "---  ------                          --------------   -----         \n",
            " 0   id                              180508 non-null  object        \n",
            " 1   product_id                      180508 non-null  object        \n",
            " 2   created_at                      180508 non-null  datetime64[ns]\n",
            " 3   sold_at                         180508 non-null  datetime64[ns]\n",
            " 4   cost                            180508 non-null  float64       \n",
            " 5   product_category                180508 non-null  object        \n",
            " 6   product_name                    180508 non-null  object        \n",
            " 7   product_brand                   180508 non-null  object        \n",
            " 8   product_retail_price            180508 non-null  float64       \n",
            " 9   product_department              180508 non-null  object        \n",
            " 10  product_sku                     180508 non-null  object        \n",
            " 11  product_distribution_center_id  180508 non-null  object        \n",
            "dtypes: datetime64[ns](2), float64(2), object(8)\n",
            "memory usage: 17.9+ MB\n"
          ]
        }
      ]
    },
    {
      "cell_type": "markdown",
      "source": [
        "Horee! Data inventori sudah clean!"
      ],
      "metadata": {
        "id": "Ndw71chVXz0i"
      }
    },
    {
      "cell_type": "markdown",
      "source": [
        "# Merging Data Inventori_clean dengan distribution center"
      ],
      "metadata": {
        "id": "XAaE3uMuWKik"
      }
    },
    {
      "cell_type": "markdown",
      "source": [
        "Untuk kemudahan merge, saya akan melakukan penggantian nama kolom pada kedua data"
      ],
      "metadata": {
        "id": "MyFPshE8WaBG"
      }
    },
    {
      "cell_type": "code",
      "source": [
        "Distribution_center.rename(columns = {'id':'DC_id'}, inplace = True)\n",
        "Inventori_clean.rename(columns = {'product_distribution_center_id':'DC_id'}, inplace = True)"
      ],
      "metadata": {
        "colab": {
          "base_uri": "https://localhost:8080/"
        },
        "id": "ZQj_6EWKWXfc",
        "outputId": "c14fafdc-7731-4659-f00c-09d151aad40f"
      },
      "execution_count": null,
      "outputs": [
        {
          "output_type": "stream",
          "name": "stderr",
          "text": [
            "/usr/local/lib/python3.7/dist-packages/pandas/core/frame.py:5047: SettingWithCopyWarning: \n",
            "A value is trying to be set on a copy of a slice from a DataFrame\n",
            "\n",
            "See the caveats in the documentation: https://pandas.pydata.org/pandas-docs/stable/user_guide/indexing.html#returning-a-view-versus-a-copy\n",
            "  errors=errors,\n"
          ]
        }
      ]
    },
    {
      "cell_type": "markdown",
      "source": [
        "Merge menggunakan prinsip right join"
      ],
      "metadata": {
        "id": "0I8AVJKxXEEb"
      }
    },
    {
      "cell_type": "code",
      "source": [
        "Inventori_clean = Inventori_clean.merge(Distribution_center, how=\"right\", on=\"DC_id\")"
      ],
      "metadata": {
        "id": "CgV3d_6uXCwd"
      },
      "execution_count": null,
      "outputs": []
    },
    {
      "cell_type": "markdown",
      "source": [
        "# Eksplorasi lebih lanjut mengenai data \"tanpa_nama\" data \"tanpa_brand\" "
      ],
      "metadata": {
        "id": "5_rIi1xxY2K6"
      }
    },
    {
      "cell_type": "code",
      "source": [
        "Inventori_clean.loc[Inventori_clean.product_name.isin([\"tanpa_nama\"]),\n",
        "    [\"product_id\", \"product_name\", \"product_brand\", \"product_category\"]]"
      ],
      "metadata": {
        "colab": {
          "base_uri": "https://localhost:8080/",
          "height": 426
        },
        "id": "Mdoo2GgiO-8j",
        "outputId": "3dd9d600-e2b0-46b6-e845-8f78bfb2f339"
      },
      "execution_count": null,
      "outputs": [
        {
          "output_type": "execute_result",
          "data": {
            "text/plain": [
              "      product_id product_name    product_brand   product_category\n",
              "19983      12586   tanpa_nama  Josie by Natori          Intimates\n",
              "19984      12586   tanpa_nama  Josie by Natori          Intimates\n",
              "19985      12586   tanpa_nama  Josie by Natori          Intimates\n",
              "19986      12586   tanpa_nama  Josie by Natori          Intimates\n",
              "19987      12586   tanpa_nama  Josie by Natori          Intimates\n",
              "19988      12586   tanpa_nama  Josie by Natori          Intimates\n",
              "34167      24455   tanpa_nama         Tru-Spec  Outerwear & Coats\n",
              "34168      24455   tanpa_nama         Tru-Spec  Outerwear & Coats\n",
              "34169      24455   tanpa_nama         Tru-Spec  Outerwear & Coats\n",
              "34170      24455   tanpa_nama         Tru-Spec  Outerwear & Coats\n",
              "34171      24455   tanpa_nama         Tru-Spec  Outerwear & Coats\n",
              "34172      24455   tanpa_nama         Tru-Spec  Outerwear & Coats"
            ],
            "text/html": [
              "\n",
              "  <div id=\"df-d915abb1-239d-4f5d-a5d3-3993fd3bf2dc\">\n",
              "    <div class=\"colab-df-container\">\n",
              "      <div>\n",
              "<style scoped>\n",
              "    .dataframe tbody tr th:only-of-type {\n",
              "        vertical-align: middle;\n",
              "    }\n",
              "\n",
              "    .dataframe tbody tr th {\n",
              "        vertical-align: top;\n",
              "    }\n",
              "\n",
              "    .dataframe thead th {\n",
              "        text-align: right;\n",
              "    }\n",
              "</style>\n",
              "<table border=\"1\" class=\"dataframe\">\n",
              "  <thead>\n",
              "    <tr style=\"text-align: right;\">\n",
              "      <th></th>\n",
              "      <th>product_id</th>\n",
              "      <th>product_name</th>\n",
              "      <th>product_brand</th>\n",
              "      <th>product_category</th>\n",
              "    </tr>\n",
              "  </thead>\n",
              "  <tbody>\n",
              "    <tr>\n",
              "      <th>19983</th>\n",
              "      <td>12586</td>\n",
              "      <td>tanpa_nama</td>\n",
              "      <td>Josie by Natori</td>\n",
              "      <td>Intimates</td>\n",
              "    </tr>\n",
              "    <tr>\n",
              "      <th>19984</th>\n",
              "      <td>12586</td>\n",
              "      <td>tanpa_nama</td>\n",
              "      <td>Josie by Natori</td>\n",
              "      <td>Intimates</td>\n",
              "    </tr>\n",
              "    <tr>\n",
              "      <th>19985</th>\n",
              "      <td>12586</td>\n",
              "      <td>tanpa_nama</td>\n",
              "      <td>Josie by Natori</td>\n",
              "      <td>Intimates</td>\n",
              "    </tr>\n",
              "    <tr>\n",
              "      <th>19986</th>\n",
              "      <td>12586</td>\n",
              "      <td>tanpa_nama</td>\n",
              "      <td>Josie by Natori</td>\n",
              "      <td>Intimates</td>\n",
              "    </tr>\n",
              "    <tr>\n",
              "      <th>19987</th>\n",
              "      <td>12586</td>\n",
              "      <td>tanpa_nama</td>\n",
              "      <td>Josie by Natori</td>\n",
              "      <td>Intimates</td>\n",
              "    </tr>\n",
              "    <tr>\n",
              "      <th>19988</th>\n",
              "      <td>12586</td>\n",
              "      <td>tanpa_nama</td>\n",
              "      <td>Josie by Natori</td>\n",
              "      <td>Intimates</td>\n",
              "    </tr>\n",
              "    <tr>\n",
              "      <th>34167</th>\n",
              "      <td>24455</td>\n",
              "      <td>tanpa_nama</td>\n",
              "      <td>Tru-Spec</td>\n",
              "      <td>Outerwear &amp; Coats</td>\n",
              "    </tr>\n",
              "    <tr>\n",
              "      <th>34168</th>\n",
              "      <td>24455</td>\n",
              "      <td>tanpa_nama</td>\n",
              "      <td>Tru-Spec</td>\n",
              "      <td>Outerwear &amp; Coats</td>\n",
              "    </tr>\n",
              "    <tr>\n",
              "      <th>34169</th>\n",
              "      <td>24455</td>\n",
              "      <td>tanpa_nama</td>\n",
              "      <td>Tru-Spec</td>\n",
              "      <td>Outerwear &amp; Coats</td>\n",
              "    </tr>\n",
              "    <tr>\n",
              "      <th>34170</th>\n",
              "      <td>24455</td>\n",
              "      <td>tanpa_nama</td>\n",
              "      <td>Tru-Spec</td>\n",
              "      <td>Outerwear &amp; Coats</td>\n",
              "    </tr>\n",
              "    <tr>\n",
              "      <th>34171</th>\n",
              "      <td>24455</td>\n",
              "      <td>tanpa_nama</td>\n",
              "      <td>Tru-Spec</td>\n",
              "      <td>Outerwear &amp; Coats</td>\n",
              "    </tr>\n",
              "    <tr>\n",
              "      <th>34172</th>\n",
              "      <td>24455</td>\n",
              "      <td>tanpa_nama</td>\n",
              "      <td>Tru-Spec</td>\n",
              "      <td>Outerwear &amp; Coats</td>\n",
              "    </tr>\n",
              "  </tbody>\n",
              "</table>\n",
              "</div>\n",
              "      <button class=\"colab-df-convert\" onclick=\"convertToInteractive('df-d915abb1-239d-4f5d-a5d3-3993fd3bf2dc')\"\n",
              "              title=\"Convert this dataframe to an interactive table.\"\n",
              "              style=\"display:none;\">\n",
              "        \n",
              "  <svg xmlns=\"http://www.w3.org/2000/svg\" height=\"24px\"viewBox=\"0 0 24 24\"\n",
              "       width=\"24px\">\n",
              "    <path d=\"M0 0h24v24H0V0z\" fill=\"none\"/>\n",
              "    <path d=\"M18.56 5.44l.94 2.06.94-2.06 2.06-.94-2.06-.94-.94-2.06-.94 2.06-2.06.94zm-11 1L8.5 8.5l.94-2.06 2.06-.94-2.06-.94L8.5 2.5l-.94 2.06-2.06.94zm10 10l.94 2.06.94-2.06 2.06-.94-2.06-.94-.94-2.06-.94 2.06-2.06.94z\"/><path d=\"M17.41 7.96l-1.37-1.37c-.4-.4-.92-.59-1.43-.59-.52 0-1.04.2-1.43.59L10.3 9.45l-7.72 7.72c-.78.78-.78 2.05 0 2.83L4 21.41c.39.39.9.59 1.41.59.51 0 1.02-.2 1.41-.59l7.78-7.78 2.81-2.81c.8-.78.8-2.07 0-2.86zM5.41 20L4 18.59l7.72-7.72 1.47 1.35L5.41 20z\"/>\n",
              "  </svg>\n",
              "      </button>\n",
              "      \n",
              "  <style>\n",
              "    .colab-df-container {\n",
              "      display:flex;\n",
              "      flex-wrap:wrap;\n",
              "      gap: 12px;\n",
              "    }\n",
              "\n",
              "    .colab-df-convert {\n",
              "      background-color: #E8F0FE;\n",
              "      border: none;\n",
              "      border-radius: 50%;\n",
              "      cursor: pointer;\n",
              "      display: none;\n",
              "      fill: #1967D2;\n",
              "      height: 32px;\n",
              "      padding: 0 0 0 0;\n",
              "      width: 32px;\n",
              "    }\n",
              "\n",
              "    .colab-df-convert:hover {\n",
              "      background-color: #E2EBFA;\n",
              "      box-shadow: 0px 1px 2px rgba(60, 64, 67, 0.3), 0px 1px 3px 1px rgba(60, 64, 67, 0.15);\n",
              "      fill: #174EA6;\n",
              "    }\n",
              "\n",
              "    [theme=dark] .colab-df-convert {\n",
              "      background-color: #3B4455;\n",
              "      fill: #D2E3FC;\n",
              "    }\n",
              "\n",
              "    [theme=dark] .colab-df-convert:hover {\n",
              "      background-color: #434B5C;\n",
              "      box-shadow: 0px 1px 3px 1px rgba(0, 0, 0, 0.15);\n",
              "      filter: drop-shadow(0px 1px 2px rgba(0, 0, 0, 0.3));\n",
              "      fill: #FFFFFF;\n",
              "    }\n",
              "  </style>\n",
              "\n",
              "      <script>\n",
              "        const buttonEl =\n",
              "          document.querySelector('#df-d915abb1-239d-4f5d-a5d3-3993fd3bf2dc button.colab-df-convert');\n",
              "        buttonEl.style.display =\n",
              "          google.colab.kernel.accessAllowed ? 'block' : 'none';\n",
              "\n",
              "        async function convertToInteractive(key) {\n",
              "          const element = document.querySelector('#df-d915abb1-239d-4f5d-a5d3-3993fd3bf2dc');\n",
              "          const dataTable =\n",
              "            await google.colab.kernel.invokeFunction('convertToInteractive',\n",
              "                                                     [key], {});\n",
              "          if (!dataTable) return;\n",
              "\n",
              "          const docLinkHtml = 'Like what you see? Visit the ' +\n",
              "            '<a target=\"_blank\" href=https://colab.research.google.com/notebooks/data_table.ipynb>data table notebook</a>'\n",
              "            + ' to learn more about interactive tables.';\n",
              "          element.innerHTML = '';\n",
              "          dataTable['output_type'] = 'display_data';\n",
              "          await google.colab.output.renderOutput(dataTable, element);\n",
              "          const docLink = document.createElement('div');\n",
              "          docLink.innerHTML = docLinkHtml;\n",
              "          element.appendChild(docLink);\n",
              "        }\n",
              "      </script>\n",
              "    </div>\n",
              "  </div>\n",
              "  "
            ]
          },
          "metadata": {},
          "execution_count": 22
        }
      ]
    },
    {
      "cell_type": "markdown",
      "source": [
        "Ternyata, produk \"tanpa_nama\" hanya ada pada dua jenis produk!"
      ],
      "metadata": {
        "id": "yrudumVLZZgO"
      }
    },
    {
      "cell_type": "code",
      "source": [
        "Inventori_clean.loc[Inventori_clean.product_brand.isin([\"tanpa_brand\"]),\n",
        "    [\"product_id\", \"product_name\", \"product_brand\", \"product_category\"]]"
      ],
      "metadata": {
        "colab": {
          "base_uri": "https://localhost:8080/",
          "height": 424
        },
        "id": "lcz6qOq5SF29",
        "outputId": "a20776ff-31ba-48b9-de0c-17870c854d16"
      },
      "execution_count": null,
      "outputs": [
        {
          "output_type": "execute_result",
          "data": {
            "text/plain": [
              "    product_id                           product_name product_brand  \\\n",
              "0        16898  Quiksilver Waterman Men's On The Rise   tanpa_brand   \n",
              "4        16898  Quiksilver Waterman Men's On The Rise   tanpa_brand   \n",
              "7        16898  Quiksilver Waterman Men's On The Rise   tanpa_brand   \n",
              "9        16898  Quiksilver Waterman Men's On The Rise   tanpa_brand   \n",
              "12       16898  Quiksilver Waterman Men's On The Rise   tanpa_brand   \n",
              "..         ...                                    ...           ...   \n",
              "361      27640           O'Neill Hangover Boardshorts   tanpa_brand   \n",
              "363      27640           O'Neill Hangover Boardshorts   tanpa_brand   \n",
              "365      27640           O'Neill Hangover Boardshorts   tanpa_brand   \n",
              "368      27640           O'Neill Hangover Boardshorts   tanpa_brand   \n",
              "370      27640           O'Neill Hangover Boardshorts   tanpa_brand   \n",
              "\n",
              "    product_category  \n",
              "0        Tops & Tees  \n",
              "4        Tops & Tees  \n",
              "7        Tops & Tees  \n",
              "9        Tops & Tees  \n",
              "12       Tops & Tees  \n",
              "..               ...  \n",
              "361             Swim  \n",
              "363             Swim  \n",
              "365             Swim  \n",
              "368             Swim  \n",
              "370             Swim  \n",
              "\n",
              "[143 rows x 4 columns]"
            ],
            "text/html": [
              "\n",
              "  <div id=\"df-ddcfffaf-4771-4238-bd78-9b1f418cc56f\">\n",
              "    <div class=\"colab-df-container\">\n",
              "      <div>\n",
              "<style scoped>\n",
              "    .dataframe tbody tr th:only-of-type {\n",
              "        vertical-align: middle;\n",
              "    }\n",
              "\n",
              "    .dataframe tbody tr th {\n",
              "        vertical-align: top;\n",
              "    }\n",
              "\n",
              "    .dataframe thead th {\n",
              "        text-align: right;\n",
              "    }\n",
              "</style>\n",
              "<table border=\"1\" class=\"dataframe\">\n",
              "  <thead>\n",
              "    <tr style=\"text-align: right;\">\n",
              "      <th></th>\n",
              "      <th>product_id</th>\n",
              "      <th>product_name</th>\n",
              "      <th>product_brand</th>\n",
              "      <th>product_category</th>\n",
              "    </tr>\n",
              "  </thead>\n",
              "  <tbody>\n",
              "    <tr>\n",
              "      <th>0</th>\n",
              "      <td>16898</td>\n",
              "      <td>Quiksilver Waterman Men's On The Rise</td>\n",
              "      <td>tanpa_brand</td>\n",
              "      <td>Tops &amp; Tees</td>\n",
              "    </tr>\n",
              "    <tr>\n",
              "      <th>4</th>\n",
              "      <td>16898</td>\n",
              "      <td>Quiksilver Waterman Men's On The Rise</td>\n",
              "      <td>tanpa_brand</td>\n",
              "      <td>Tops &amp; Tees</td>\n",
              "    </tr>\n",
              "    <tr>\n",
              "      <th>7</th>\n",
              "      <td>16898</td>\n",
              "      <td>Quiksilver Waterman Men's On The Rise</td>\n",
              "      <td>tanpa_brand</td>\n",
              "      <td>Tops &amp; Tees</td>\n",
              "    </tr>\n",
              "    <tr>\n",
              "      <th>9</th>\n",
              "      <td>16898</td>\n",
              "      <td>Quiksilver Waterman Men's On The Rise</td>\n",
              "      <td>tanpa_brand</td>\n",
              "      <td>Tops &amp; Tees</td>\n",
              "    </tr>\n",
              "    <tr>\n",
              "      <th>12</th>\n",
              "      <td>16898</td>\n",
              "      <td>Quiksilver Waterman Men's On The Rise</td>\n",
              "      <td>tanpa_brand</td>\n",
              "      <td>Tops &amp; Tees</td>\n",
              "    </tr>\n",
              "    <tr>\n",
              "      <th>...</th>\n",
              "      <td>...</td>\n",
              "      <td>...</td>\n",
              "      <td>...</td>\n",
              "      <td>...</td>\n",
              "    </tr>\n",
              "    <tr>\n",
              "      <th>361</th>\n",
              "      <td>27640</td>\n",
              "      <td>O'Neill Hangover Boardshorts</td>\n",
              "      <td>tanpa_brand</td>\n",
              "      <td>Swim</td>\n",
              "    </tr>\n",
              "    <tr>\n",
              "      <th>363</th>\n",
              "      <td>27640</td>\n",
              "      <td>O'Neill Hangover Boardshorts</td>\n",
              "      <td>tanpa_brand</td>\n",
              "      <td>Swim</td>\n",
              "    </tr>\n",
              "    <tr>\n",
              "      <th>365</th>\n",
              "      <td>27640</td>\n",
              "      <td>O'Neill Hangover Boardshorts</td>\n",
              "      <td>tanpa_brand</td>\n",
              "      <td>Swim</td>\n",
              "    </tr>\n",
              "    <tr>\n",
              "      <th>368</th>\n",
              "      <td>27640</td>\n",
              "      <td>O'Neill Hangover Boardshorts</td>\n",
              "      <td>tanpa_brand</td>\n",
              "      <td>Swim</td>\n",
              "    </tr>\n",
              "    <tr>\n",
              "      <th>370</th>\n",
              "      <td>27640</td>\n",
              "      <td>O'Neill Hangover Boardshorts</td>\n",
              "      <td>tanpa_brand</td>\n",
              "      <td>Swim</td>\n",
              "    </tr>\n",
              "  </tbody>\n",
              "</table>\n",
              "<p>143 rows × 4 columns</p>\n",
              "</div>\n",
              "      <button class=\"colab-df-convert\" onclick=\"convertToInteractive('df-ddcfffaf-4771-4238-bd78-9b1f418cc56f')\"\n",
              "              title=\"Convert this dataframe to an interactive table.\"\n",
              "              style=\"display:none;\">\n",
              "        \n",
              "  <svg xmlns=\"http://www.w3.org/2000/svg\" height=\"24px\"viewBox=\"0 0 24 24\"\n",
              "       width=\"24px\">\n",
              "    <path d=\"M0 0h24v24H0V0z\" fill=\"none\"/>\n",
              "    <path d=\"M18.56 5.44l.94 2.06.94-2.06 2.06-.94-2.06-.94-.94-2.06-.94 2.06-2.06.94zm-11 1L8.5 8.5l.94-2.06 2.06-.94-2.06-.94L8.5 2.5l-.94 2.06-2.06.94zm10 10l.94 2.06.94-2.06 2.06-.94-2.06-.94-.94-2.06-.94 2.06-2.06.94z\"/><path d=\"M17.41 7.96l-1.37-1.37c-.4-.4-.92-.59-1.43-.59-.52 0-1.04.2-1.43.59L10.3 9.45l-7.72 7.72c-.78.78-.78 2.05 0 2.83L4 21.41c.39.39.9.59 1.41.59.51 0 1.02-.2 1.41-.59l7.78-7.78 2.81-2.81c.8-.78.8-2.07 0-2.86zM5.41 20L4 18.59l7.72-7.72 1.47 1.35L5.41 20z\"/>\n",
              "  </svg>\n",
              "      </button>\n",
              "      \n",
              "  <style>\n",
              "    .colab-df-container {\n",
              "      display:flex;\n",
              "      flex-wrap:wrap;\n",
              "      gap: 12px;\n",
              "    }\n",
              "\n",
              "    .colab-df-convert {\n",
              "      background-color: #E8F0FE;\n",
              "      border: none;\n",
              "      border-radius: 50%;\n",
              "      cursor: pointer;\n",
              "      display: none;\n",
              "      fill: #1967D2;\n",
              "      height: 32px;\n",
              "      padding: 0 0 0 0;\n",
              "      width: 32px;\n",
              "    }\n",
              "\n",
              "    .colab-df-convert:hover {\n",
              "      background-color: #E2EBFA;\n",
              "      box-shadow: 0px 1px 2px rgba(60, 64, 67, 0.3), 0px 1px 3px 1px rgba(60, 64, 67, 0.15);\n",
              "      fill: #174EA6;\n",
              "    }\n",
              "\n",
              "    [theme=dark] .colab-df-convert {\n",
              "      background-color: #3B4455;\n",
              "      fill: #D2E3FC;\n",
              "    }\n",
              "\n",
              "    [theme=dark] .colab-df-convert:hover {\n",
              "      background-color: #434B5C;\n",
              "      box-shadow: 0px 1px 3px 1px rgba(0, 0, 0, 0.15);\n",
              "      filter: drop-shadow(0px 1px 2px rgba(0, 0, 0, 0.3));\n",
              "      fill: #FFFFFF;\n",
              "    }\n",
              "  </style>\n",
              "\n",
              "      <script>\n",
              "        const buttonEl =\n",
              "          document.querySelector('#df-ddcfffaf-4771-4238-bd78-9b1f418cc56f button.colab-df-convert');\n",
              "        buttonEl.style.display =\n",
              "          google.colab.kernel.accessAllowed ? 'block' : 'none';\n",
              "\n",
              "        async function convertToInteractive(key) {\n",
              "          const element = document.querySelector('#df-ddcfffaf-4771-4238-bd78-9b1f418cc56f');\n",
              "          const dataTable =\n",
              "            await google.colab.kernel.invokeFunction('convertToInteractive',\n",
              "                                                     [key], {});\n",
              "          if (!dataTable) return;\n",
              "\n",
              "          const docLinkHtml = 'Like what you see? Visit the ' +\n",
              "            '<a target=\"_blank\" href=https://colab.research.google.com/notebooks/data_table.ipynb>data table notebook</a>'\n",
              "            + ' to learn more about interactive tables.';\n",
              "          element.innerHTML = '';\n",
              "          dataTable['output_type'] = 'display_data';\n",
              "          await google.colab.output.renderOutput(dataTable, element);\n",
              "          const docLink = document.createElement('div');\n",
              "          docLink.innerHTML = docLinkHtml;\n",
              "          element.appendChild(docLink);\n",
              "        }\n",
              "      </script>\n",
              "    </div>\n",
              "  </div>\n",
              "  "
            ]
          },
          "metadata": {},
          "execution_count": 17
        }
      ]
    },
    {
      "cell_type": "markdown",
      "source": [
        "Karena produk \"tanpa_brand\" ini cukup banyak, maka saya akan coba visualisasikan dengan plot count"
      ],
      "metadata": {
        "id": "Go2f1qlTZxJt"
      }
    },
    {
      "cell_type": "markdown",
      "source": [
        "Pertama, saya harus membuat fungsinya dulu agar memudahkan visualisasi"
      ],
      "metadata": {
        "id": "D5voOG1caFr6"
      }
    },
    {
      "cell_type": "code",
      "source": [
        "def plot_count(data, x=None, y=None, palette=None, figsize=(12, 6), **kwargs):\n",
        "    column_order = data[x or y].value_counts().index\n",
        "\n",
        "    plt.figure(figsize=figsize)\n",
        "    sns.countplot(\n",
        "        x=x, y=y, data=data, order=column_order,\n",
        "        palette=palette, **kwargs\n",
        "    )\n",
        "    plt.grid(False)\n",
        "\n",
        "\n",
        "MAIN_COLOR = [\"#29B5BF\"]    # warna utama untuk visualisasi\n",
        "OTHER_COLOR = [\"#777777\"]    # warna lainnya untuk visualisasi"
      ],
      "metadata": {
        "id": "HEAYVV37TO6b"
      },
      "execution_count": null,
      "outputs": []
    },
    {
      "cell_type": "code",
      "source": [
        "plot_count(y=\"product_category\",data=Inventori_clean[Inventori_clean.product_brand.isin([\"tanpa_brand\"])],\n",
        "    figsize=(12, 8))"
      ],
      "metadata": {
        "colab": {
          "base_uri": "https://localhost:8080/",
          "height": 496
        },
        "id": "CcYM55twSkSx",
        "outputId": "a6a72737-2110-4ab3-b452-c9dab730f1f9"
      },
      "execution_count": null,
      "outputs": [
        {
          "output_type": "display_data",
          "data": {
            "text/plain": [
              "<Figure size 864x576 with 1 Axes>"
            ],
            "image/png": "[encoded data removed]"
          },
          "metadata": {
            "needs_background": "light"
          }
        }
      ]
    },
    {
      "cell_type": "markdown",
      "source": [
        "Bisa dilihat, 3 kategori produk teratas yang paling banyak memiliki produk yang tidak memiliki brand adalah kategori Top & Tees, Intimates, dan swim"
      ],
      "metadata": {
        "id": "x2RKB-f2ay2j"
      }
    },
    {
      "cell_type": "markdown",
      "source": [
        "# Melihat Korelasi"
      ],
      "metadata": {
        "id": "x5D_1UnLesJ3"
      }
    },
    {
      "cell_type": "markdown",
      "source": [
        "Biar estetik, kita lihat korelasinya pake heatmap bray!"
      ],
      "metadata": {
        "id": "1DXrlXErdyLX"
      }
    },
    {
      "cell_type": "code",
      "source": [
        "sns.heatmap(Inventori_clean.corr(), annot=True, fmt=\".2f\")\n",
        "plt.show()"
      ],
      "metadata": {
        "colab": {
          "base_uri": "https://localhost:8080/",
          "height": 269
        },
        "id": "oi7CchytoXhL",
        "outputId": "229d9d83-c6a4-472b-ac8a-eacebed37d04"
      },
      "execution_count": null,
      "outputs": [
        {
          "output_type": "display_data",
          "data": {
            "text/plain": [
              "<Figure size 432x288 with 2 Axes>"
            ],
            "image/png": "[encoded data removed]"
          },
          "metadata": {
            "needs_background": "light"
          }
        }
      ]
    },
    {
      "cell_type": "markdown",
      "source": [
        "Make sense banget korelasinya positif, semakin tinggi biaya produksi maka bakal makin tinggi juga harga jualnya. Gak percaya? oke, kita tambah buktinya!"
      ],
      "metadata": {
        "id": "Ry7FtFiQcp9t"
      }
    },
    {
      "cell_type": "code",
      "source": [
        "sns.regplot(x=Inventori_clean[\"cost\"],y=Inventori_clean[\"product_retail_price\"],data=Inventori_clean)\n",
        "plt.ylim(0,)"
      ],
      "metadata": {
        "colab": {
          "base_uri": "https://localhost:8080/",
          "height": 296
        },
        "id": "anZ49vVRdROZ",
        "outputId": "9716aca1-9c36-4552-ab34-a10ea0bba147"
      },
      "execution_count": null,
      "outputs": [
        {
          "output_type": "execute_result",
          "data": {
            "text/plain": [
              "(0.0, 1239.442329000181)"
            ]
          },
          "metadata": {},
          "execution_count": 21
        },
        {
          "output_type": "display_data",
          "data": {
            "text/plain": [
              "<Figure size 432x288 with 1 Axes>"
            ],
            "image/png": "[encoded data removed]"
          },
          "metadata": {
            "needs_background": "light"
          }
        }
      ]
    },
    {
      "cell_type": "markdown",
      "source": [
        "Tuh kan, jelas banget hubungannya positif, semakin tinggi si cost maka si product_retail_price nya pasti makin tinggi juga"
      ],
      "metadata": {
        "id": "MpsphShod9XZ"
      }
    },
    {
      "cell_type": "markdown",
      "source": [
        "# Mengecek Statistik Deskriptif Variabel Numerical dalam Data_inventory"
      ],
      "metadata": {
        "id": "QUG_Yas9S_cV"
      }
    },
    {
      "cell_type": "code",
      "source": [
        "Inventori_clean.describe()"
      ],
      "metadata": {
        "colab": {
          "base_uri": "https://localhost:8080/",
          "height": 300
        },
        "id": "XU15gSwNLnLe",
        "outputId": "7d1c79f9-1aa3-4e13-c261-3bc8fea4e874"
      },
      "execution_count": null,
      "outputs": [
        {
          "output_type": "execute_result",
          "data": {
            "text/plain": [
              "                cost  product_retail_price\n",
              "count  180508.000000         180508.000000\n",
              "mean       28.754903             59.799867\n",
              "std        30.628474             65.844662\n",
              "min         0.008300              0.020000\n",
              "25%        11.400000             24.900000\n",
              "50%        19.955011             39.990002\n",
              "75%        34.715039             69.949997\n",
              "max       557.151002            999.000000"
            ],
            "text/html": [
              "\n",
              "  <div id=\"df-a9dd2768-e78b-4563-a33b-d2112cdc12fb\">\n",
              "    <div class=\"colab-df-container\">\n",
              "      <div>\n",
              "<style scoped>\n",
              "    .dataframe tbody tr th:only-of-type {\n",
              "        vertical-align: middle;\n",
              "    }\n",
              "\n",
              "    .dataframe tbody tr th {\n",
              "        vertical-align: top;\n",
              "    }\n",
              "\n",
              "    .dataframe thead th {\n",
              "        text-align: right;\n",
              "    }\n",
              "</style>\n",
              "<table border=\"1\" class=\"dataframe\">\n",
              "  <thead>\n",
              "    <tr style=\"text-align: right;\">\n",
              "      <th></th>\n",
              "      <th>cost</th>\n",
              "      <th>product_retail_price</th>\n",
              "    </tr>\n",
              "  </thead>\n",
              "  <tbody>\n",
              "    <tr>\n",
              "      <th>count</th>\n",
              "      <td>180508.000000</td>\n",
              "      <td>180508.000000</td>\n",
              "    </tr>\n",
              "    <tr>\n",
              "      <th>mean</th>\n",
              "      <td>28.754903</td>\n",
              "      <td>59.799867</td>\n",
              "    </tr>\n",
              "    <tr>\n",
              "      <th>std</th>\n",
              "      <td>30.628474</td>\n",
              "      <td>65.844662</td>\n",
              "    </tr>\n",
              "    <tr>\n",
              "      <th>min</th>\n",
              "      <td>0.008300</td>\n",
              "      <td>0.020000</td>\n",
              "    </tr>\n",
              "    <tr>\n",
              "      <th>25%</th>\n",
              "      <td>11.400000</td>\n",
              "      <td>24.900000</td>\n",
              "    </tr>\n",
              "    <tr>\n",
              "      <th>50%</th>\n",
              "      <td>19.955011</td>\n",
              "      <td>39.990002</td>\n",
              "    </tr>\n",
              "    <tr>\n",
              "      <th>75%</th>\n",
              "      <td>34.715039</td>\n",
              "      <td>69.949997</td>\n",
              "    </tr>\n",
              "    <tr>\n",
              "      <th>max</th>\n",
              "      <td>557.151002</td>\n",
              "      <td>999.000000</td>\n",
              "    </tr>\n",
              "  </tbody>\n",
              "</table>\n",
              "</div>\n",
              "      <button class=\"colab-df-convert\" onclick=\"convertToInteractive('df-a9dd2768-e78b-4563-a33b-d2112cdc12fb')\"\n",
              "              title=\"Convert this dataframe to an interactive table.\"\n",
              "              style=\"display:none;\">\n",
              "        \n",
              "  <svg xmlns=\"http://www.w3.org/2000/svg\" height=\"24px\"viewBox=\"0 0 24 24\"\n",
              "       width=\"24px\">\n",
              "    <path d=\"M0 0h24v24H0V0z\" fill=\"none\"/>\n",
              "    <path d=\"M18.56 5.44l.94 2.06.94-2.06 2.06-.94-2.06-.94-.94-2.06-.94 2.06-2.06.94zm-11 1L8.5 8.5l.94-2.06 2.06-.94-2.06-.94L8.5 2.5l-.94 2.06-2.06.94zm10 10l.94 2.06.94-2.06 2.06-.94-2.06-.94-.94-2.06-.94 2.06-2.06.94z\"/><path d=\"M17.41 7.96l-1.37-1.37c-.4-.4-.92-.59-1.43-.59-.52 0-1.04.2-1.43.59L10.3 9.45l-7.72 7.72c-.78.78-.78 2.05 0 2.83L4 21.41c.39.39.9.59 1.41.59.51 0 1.02-.2 1.41-.59l7.78-7.78 2.81-2.81c.8-.78.8-2.07 0-2.86zM5.41 20L4 18.59l7.72-7.72 1.47 1.35L5.41 20z\"/>\n",
              "  </svg>\n",
              "      </button>\n",
              "      \n",
              "  <style>\n",
              "    .colab-df-container {\n",
              "      display:flex;\n",
              "      flex-wrap:wrap;\n",
              "      gap: 12px;\n",
              "    }\n",
              "\n",
              "    .colab-df-convert {\n",
              "      background-color: #E8F0FE;\n",
              "      border: none;\n",
              "      border-radius: 50%;\n",
              "      cursor: pointer;\n",
              "      display: none;\n",
              "      fill: #1967D2;\n",
              "      height: 32px;\n",
              "      padding: 0 0 0 0;\n",
              "      width: 32px;\n",
              "    }\n",
              "\n",
              "    .colab-df-convert:hover {\n",
              "      background-color: #E2EBFA;\n",
              "      box-shadow: 0px 1px 2px rgba(60, 64, 67, 0.3), 0px 1px 3px 1px rgba(60, 64, 67, 0.15);\n",
              "      fill: #174EA6;\n",
              "    }\n",
              "\n",
              "    [theme=dark] .colab-df-convert {\n",
              "      background-color: #3B4455;\n",
              "      fill: #D2E3FC;\n",
              "    }\n",
              "\n",
              "    [theme=dark] .colab-df-convert:hover {\n",
              "      background-color: #434B5C;\n",
              "      box-shadow: 0px 1px 3px 1px rgba(0, 0, 0, 0.15);\n",
              "      filter: drop-shadow(0px 1px 2px rgba(0, 0, 0, 0.3));\n",
              "      fill: #FFFFFF;\n",
              "    }\n",
              "  </style>\n",
              "\n",
              "      <script>\n",
              "        const buttonEl =\n",
              "          document.querySelector('#df-a9dd2768-e78b-4563-a33b-d2112cdc12fb button.colab-df-convert');\n",
              "        buttonEl.style.display =\n",
              "          google.colab.kernel.accessAllowed ? 'block' : 'none';\n",
              "\n",
              "        async function convertToInteractive(key) {\n",
              "          const element = document.querySelector('#df-a9dd2768-e78b-4563-a33b-d2112cdc12fb');\n",
              "          const dataTable =\n",
              "            await google.colab.kernel.invokeFunction('convertToInteractive',\n",
              "                                                     [key], {});\n",
              "          if (!dataTable) return;\n",
              "\n",
              "          const docLinkHtml = 'Like what you see? Visit the ' +\n",
              "            '<a target=\"_blank\" href=https://colab.research.google.com/notebooks/data_table.ipynb>data table notebook</a>'\n",
              "            + ' to learn more about interactive tables.';\n",
              "          element.innerHTML = '';\n",
              "          dataTable['output_type'] = 'display_data';\n",
              "          await google.colab.output.renderOutput(dataTable, element);\n",
              "          const docLink = document.createElement('div');\n",
              "          docLink.innerHTML = docLinkHtml;\n",
              "          element.appendChild(docLink);\n",
              "        }\n",
              "      </script>\n",
              "    </div>\n",
              "  </div>\n",
              "  "
            ]
          },
          "metadata": {},
          "execution_count": 22
        }
      ]
    },
    {
      "cell_type": "markdown",
      "source": [
        "Dari deskripsi tersebut, baik variabel 'cost' maupun 'product_retail_price' memiliki jarak yang sangat jauh dari Q3 ke nilai max, hal ini mengindikasikan adanya outlier! untuk membuktikannya, kita lakukan visualisasi box plot kuy!"
      ],
      "metadata": {
        "id": "d9KPyAQiTUYB"
      }
    },
    {
      "cell_type": "code",
      "source": [
        "Inventori_clean[\"cost\"].plot(kind=\"box\", figsize=(10,20))\n",
        "plt.grid(False)\n",
        "plt.show()"
      ],
      "metadata": {
        "colab": {
          "base_uri": "https://localhost:8080/",
          "height": 1000
        },
        "id": "Jv6OZzFniQAO",
        "outputId": "db9df00f-4bcc-4368-8b06-45bab990cfa4"
      },
      "execution_count": null,
      "outputs": [
        {
          "output_type": "display_data",
          "data": {
            "text/plain": [
              "<Figure size 720x1440 with 1 Axes>"
            ],
            "image/png": "[encoded data removed]"
          },
          "metadata": {
            "needs_background": "light"
          }
        }
      ]
    },
    {
      "cell_type": "code",
      "source": [
        "Inventori_clean[\"product_retail_price\"].plot(kind=\"box\", figsize=(10,20))\n",
        "plt.grid(False)\n",
        "plt.show()"
      ],
      "metadata": {
        "colab": {
          "base_uri": "https://localhost:8080/",
          "height": 1000
        },
        "id": "0hanmjfkgvRA",
        "outputId": "07d31cf1-713c-433f-9010-0494b7811a41"
      },
      "execution_count": null,
      "outputs": [
        {
          "output_type": "display_data",
          "data": {
            "text/plain": [
              "<Figure size 720x1440 with 1 Axes>"
            ],
            "image/png": "[encoded data removed]"
          },
          "metadata": {
            "needs_background": "light"
          }
        }
      ]
    },
    {
      "cell_type": "markdown",
      "source": [
        "Tuh kan bener, banyak banget outliernya. Tapi, saya tidak akan melakukan outlier cleaning, karena teknik analisis yang akan saya pakai adalah clustering. Asumsi saya, bisa saja outlier ini menjadi cluster tersendiri."
      ],
      "metadata": {
        "id": "dQbcb_NLV6p_"
      }
    },
    {
      "cell_type": "markdown",
      "source": [
        "# Deskripsi visualisasi"
      ],
      "metadata": {
        "id": "Cfz0Ho4NYrdq"
      }
    },
    {
      "cell_type": "markdown",
      "source": [
        "Next, saya mau coba buat beberapa visualisasi dari data yang sudah clean tadi"
      ],
      "metadata": {
        "id": "ZwezBleYfde-"
      }
    },
    {
      "cell_type": "code",
      "source": [
        "def plot_count(data, x=None, y=None, palette=None, figsize=(50, 6), **kwargs):\n",
        "    column_order = data[x or y].value_counts().index\n",
        "\n",
        "    plt.figure(figsize=figsize)\n",
        "    sns.countplot(\n",
        "        x=x, y=y, data=data, order=column_order,\n",
        "        palette=palette, **kwargs\n",
        "    )\n",
        "    plt.grid(False)\n",
        "\n",
        "\n",
        "MAIN_COLOR = [\"#29B5BF\"]    # warna utama untuk visualisasi\n",
        "OTHER_COLOR = [\"#777777\"]    # warna lainnya untuk visualisasi"
      ],
      "metadata": {
        "id": "crbcPTakf-4j"
      },
      "execution_count": null,
      "outputs": []
    },
    {
      "cell_type": "markdown",
      "source": [
        "Visualisasi produk yang sudah terjual berdasarkan product_category"
      ],
      "metadata": {
        "id": "BComFAu4hOhe"
      }
    },
    {
      "cell_type": "code",
      "source": [
        "plot_count(x=\"product_category\", data=Inventori_clean)"
      ],
      "metadata": {
        "colab": {
          "base_uri": "https://localhost:8080/",
          "height": 171
        },
        "id": "rn9yv_Vd0C9d",
        "outputId": "13f1d0a0-93d3-47b1-f5ae-9015ab81326c"
      },
      "execution_count": null,
      "outputs": [
        {
          "output_type": "display_data",
          "data": {
            "text/plain": [
              "<Figure size 3600x432 with 1 Axes>"
            ],
            "image/png": "[encoded data removed]"
          },
          "metadata": {}
        }
      ]
    },
    {
      "cell_type": "markdown",
      "source": [
        "Top 5 Product Category yang sudah terjual :\n",
        "1.\tIntimates\n",
        "2.\tJeans\n",
        "3.\tFashion Hoodies & Sweatshirt\n",
        "4.\tTop and Tees\n",
        "5.\tSwim\n"
      ],
      "metadata": {
        "id": "sP4ty4e7gW8A"
      }
    },
    {
      "cell_type": "code",
      "source": [
        "plt.figure(figsize=(67, 18))\n",
        "sns.countplot(\n",
        "    x=\"product_category\",\n",
        "    data=Inventori_clean,\n",
        "    hue=\"product_department\",\n",
        "    palette=[\"#29B5BF\"] + [\"#777777\"]\n",
        ")\n",
        "plt.grid(False)\n",
        "plt.legend(loc=\"upper right\")\n",
        "plt.show()"
      ],
      "metadata": {
        "colab": {
          "base_uri": "https://localhost:8080/",
          "height": 316
        },
        "id": "3hKFgMKnwuxf",
        "outputId": "8a1cc5c9-96fa-4026-e1e0-68f89dc6d795"
      },
      "execution_count": null,
      "outputs": [
        {
          "output_type": "display_data",
          "data": {
            "text/plain": [
              "<Figure size 4824x1296 with 1 Axes>"
            ],
            "image/png": "[encoded data removed]"
          },
          "metadata": {
            "needs_background": "light"
          }
        }
      ]
    },
    {
      "cell_type": "markdown",
      "source": [
        "Insight\n",
        "1. Ada kategori produk yang khusus untuk perempuan seperti maternity dan dress\n",
        "2. Ada kategori khusus produk laki-laki seperti pants dan suit & sport coats\n",
        "3. Ada kategori produk yang unisex (laki-laki & perempuan) seperti sweaters, jeans, dan swim\n",
        "\n",
        "\n",
        "•\tTop 5 product category women :\n",
        "1.\tIntimates\n",
        "2.\tDresses\n",
        "3.\tMaternity\n",
        "4.\tFashion Hoodies\n",
        "5.\tSwim\n",
        "\n",
        "•\tTop 5 product category men :\n",
        "1.\tJeans\n",
        "2.\tUnderwear\n",
        "3.\tTops and tees\n",
        "4.\tPants\n",
        "5.\tSweater\n"
      ],
      "metadata": {
        "id": "Kab1TjUAh2uN"
      }
    },
    {
      "cell_type": "markdown",
      "source": [
        "# Membuat Variabel LPT (Lama Produk Terjual) dari selisih created_at dan sold_at"
      ],
      "metadata": {
        "id": "p7uUftxZmSuA"
      }
    },
    {
      "cell_type": "code",
      "source": [
        "LPT=Inventori_clean['sold_at'] - Inventori_clean['created_at']\n",
        "print(LPT)"
      ],
      "metadata": {
        "colab": {
          "base_uri": "https://localhost:8080/"
        },
        "id": "ywTeThfNFVmL",
        "outputId": "5dc530f7-e024-4094-f097-1a4dc0c38e7c"
      },
      "execution_count": null,
      "outputs": [
        {
          "output_type": "stream",
          "name": "stdout",
          "text": [
            "0         1 days 12:14:00\n",
            "4        45 days 12:43:00\n",
            "7        20 days 21:10:00\n",
            "9        52 days 00:28:00\n",
            "12        2 days 19:36:00\n",
            "               ...       \n",
            "487384   59 days 16:58:00\n",
            "487386   11 days 12:48:00\n",
            "487388    1 days 02:41:00\n",
            "487390   57 days 14:07:00\n",
            "487392   42 days 16:16:00\n",
            "Length: 180508, dtype: timedelta64[ns]\n"
          ]
        }
      ]
    },
    {
      "cell_type": "markdown",
      "source": [
        "Mengubah tipe data LPT dari timedelta64[ns] ke float dalam bentuk Day"
      ],
      "metadata": {
        "id": "1bHBBqqampyj"
      }
    },
    {
      "cell_type": "code",
      "source": [
        "LPT = LPT.astype(\"timedelta64[D]\")\n",
        "LPT"
      ],
      "metadata": {
        "colab": {
          "base_uri": "https://localhost:8080/"
        },
        "id": "45j7JU4KHBMB",
        "outputId": "69c3d1a3-fc03-4273-e19f-213fe6a73447"
      },
      "execution_count": null,
      "outputs": [
        {
          "output_type": "execute_result",
          "data": {
            "text/plain": [
              "0          1.0\n",
              "4         45.0\n",
              "7         20.0\n",
              "9         52.0\n",
              "12         2.0\n",
              "          ... \n",
              "487384    59.0\n",
              "487386    11.0\n",
              "487388     1.0\n",
              "487390    57.0\n",
              "487392    42.0\n",
              "Length: 180508, dtype: float64"
            ]
          },
          "metadata": {},
          "execution_count": 19
        }
      ]
    },
    {
      "cell_type": "markdown",
      "source": [
        "Memasukkan variabel LPT ke tabel Inventori_clean"
      ],
      "metadata": {
        "id": "APRsOeE2nGoK"
      }
    },
    {
      "cell_type": "code",
      "source": [
        "Inventori_clean['LPT']=LPT"
      ],
      "metadata": {
        "colab": {
          "base_uri": "https://localhost:8080/"
        },
        "id": "2SBi88lwPOSs",
        "outputId": "be9f2fea-e618-4b22-8d24-ba76c9db195b"
      },
      "execution_count": null,
      "outputs": [
        {
          "output_type": "stream",
          "name": "stderr",
          "text": [
            "/usr/local/lib/python3.7/dist-packages/ipykernel_launcher.py:1: SettingWithCopyWarning: \n",
            "A value is trying to be set on a copy of a slice from a DataFrame.\n",
            "Try using .loc[row_indexer,col_indexer] = value instead\n",
            "\n",
            "See the caveats in the documentation: https://pandas.pydata.org/pandas-docs/stable/user_guide/indexing.html#returning-a-view-versus-a-copy\n",
            "  \"\"\"Entry point for launching an IPython kernel.\n"
          ]
        }
      ]
    },
    {
      "cell_type": "markdown",
      "source": [
        "Kita cek.."
      ],
      "metadata": {
        "id": "DLmDXBGZnakQ"
      }
    },
    {
      "cell_type": "code",
      "source": [
        "Inventori_clean[['created_at', 'sold_at', 'LPT']]"
      ],
      "metadata": {
        "colab": {
          "base_uri": "https://localhost:8080/",
          "height": 424
        },
        "id": "fi4aGLbOOrh8",
        "outputId": "39fee683-0b3b-436b-998c-82bb9d83ffe3"
      },
      "execution_count": null,
      "outputs": [
        {
          "output_type": "execute_result",
          "data": {
            "text/plain": [
              "                created_at             sold_at   LPT\n",
              "0      2021-07-19 02:20:10 2021-07-20 14:34:10   1.0\n",
              "4      2020-05-09 11:16:10 2020-06-23 23:59:10  45.0\n",
              "7      2021-07-22 15:42:55 2021-08-12 12:52:55  20.0\n",
              "9      2021-02-13 02:34:52 2021-04-06 03:02:52  52.0\n",
              "12     2022-01-19 04:15:36 2022-01-21 23:51:36   2.0\n",
              "...                    ...                 ...   ...\n",
              "487384 2020-09-29 05:54:04 2020-11-27 22:52:04  59.0\n",
              "487386 2021-03-22 04:14:01 2021-04-02 17:02:01  11.0\n",
              "487388 2021-05-09 01:10:49 2021-05-10 03:51:49   1.0\n",
              "487390 2021-03-18 14:42:49 2021-05-15 04:49:49  57.0\n",
              "487392 2021-05-15 11:44:11 2021-06-27 04:00:11  42.0\n",
              "\n",
              "[180508 rows x 3 columns]"
            ],
            "text/html": [
              "\n",
              "  <div id=\"df-a358a3e2-35d5-40b8-b158-94825148ff88\">\n",
              "    <div class=\"colab-df-container\">\n",
              "      <div>\n",
              "<style scoped>\n",
              "    .dataframe tbody tr th:only-of-type {\n",
              "        vertical-align: middle;\n",
              "    }\n",
              "\n",
              "    .dataframe tbody tr th {\n",
              "        vertical-align: top;\n",
              "    }\n",
              "\n",
              "    .dataframe thead th {\n",
              "        text-align: right;\n",
              "    }\n",
              "</style>\n",
              "<table border=\"1\" class=\"dataframe\">\n",
              "  <thead>\n",
              "    <tr style=\"text-align: right;\">\n",
              "      <th></th>\n",
              "      <th>created_at</th>\n",
              "      <th>sold_at</th>\n",
              "      <th>LPT</th>\n",
              "    </tr>\n",
              "  </thead>\n",
              "  <tbody>\n",
              "    <tr>\n",
              "      <th>0</th>\n",
              "      <td>2021-07-19 02:20:10</td>\n",
              "      <td>2021-07-20 14:34:10</td>\n",
              "      <td>1.0</td>\n",
              "    </tr>\n",
              "    <tr>\n",
              "      <th>4</th>\n",
              "      <td>2020-05-09 11:16:10</td>\n",
              "      <td>2020-06-23 23:59:10</td>\n",
              "      <td>45.0</td>\n",
              "    </tr>\n",
              "    <tr>\n",
              "      <th>7</th>\n",
              "      <td>2021-07-22 15:42:55</td>\n",
              "      <td>2021-08-12 12:52:55</td>\n",
              "      <td>20.0</td>\n",
              "    </tr>\n",
              "    <tr>\n",
              "      <th>9</th>\n",
              "      <td>2021-02-13 02:34:52</td>\n",
              "      <td>2021-04-06 03:02:52</td>\n",
              "      <td>52.0</td>\n",
              "    </tr>\n",
              "    <tr>\n",
              "      <th>12</th>\n",
              "      <td>2022-01-19 04:15:36</td>\n",
              "      <td>2022-01-21 23:51:36</td>\n",
              "      <td>2.0</td>\n",
              "    </tr>\n",
              "    <tr>\n",
              "      <th>...</th>\n",
              "      <td>...</td>\n",
              "      <td>...</td>\n",
              "      <td>...</td>\n",
              "    </tr>\n",
              "    <tr>\n",
              "      <th>487384</th>\n",
              "      <td>2020-09-29 05:54:04</td>\n",
              "      <td>2020-11-27 22:52:04</td>\n",
              "      <td>59.0</td>\n",
              "    </tr>\n",
              "    <tr>\n",
              "      <th>487386</th>\n",
              "      <td>2021-03-22 04:14:01</td>\n",
              "      <td>2021-04-02 17:02:01</td>\n",
              "      <td>11.0</td>\n",
              "    </tr>\n",
              "    <tr>\n",
              "      <th>487388</th>\n",
              "      <td>2021-05-09 01:10:49</td>\n",
              "      <td>2021-05-10 03:51:49</td>\n",
              "      <td>1.0</td>\n",
              "    </tr>\n",
              "    <tr>\n",
              "      <th>487390</th>\n",
              "      <td>2021-03-18 14:42:49</td>\n",
              "      <td>2021-05-15 04:49:49</td>\n",
              "      <td>57.0</td>\n",
              "    </tr>\n",
              "    <tr>\n",
              "      <th>487392</th>\n",
              "      <td>2021-05-15 11:44:11</td>\n",
              "      <td>2021-06-27 04:00:11</td>\n",
              "      <td>42.0</td>\n",
              "    </tr>\n",
              "  </tbody>\n",
              "</table>\n",
              "<p>180508 rows × 3 columns</p>\n",
              "</div>\n",
              "      <button class=\"colab-df-convert\" onclick=\"convertToInteractive('df-a358a3e2-35d5-40b8-b158-94825148ff88')\"\n",
              "              title=\"Convert this dataframe to an interactive table.\"\n",
              "              style=\"display:none;\">\n",
              "        \n",
              "  <svg xmlns=\"http://www.w3.org/2000/svg\" height=\"24px\"viewBox=\"0 0 24 24\"\n",
              "       width=\"24px\">\n",
              "    <path d=\"M0 0h24v24H0V0z\" fill=\"none\"/>\n",
              "    <path d=\"M18.56 5.44l.94 2.06.94-2.06 2.06-.94-2.06-.94-.94-2.06-.94 2.06-2.06.94zm-11 1L8.5 8.5l.94-2.06 2.06-.94-2.06-.94L8.5 2.5l-.94 2.06-2.06.94zm10 10l.94 2.06.94-2.06 2.06-.94-2.06-.94-.94-2.06-.94 2.06-2.06.94z\"/><path d=\"M17.41 7.96l-1.37-1.37c-.4-.4-.92-.59-1.43-.59-.52 0-1.04.2-1.43.59L10.3 9.45l-7.72 7.72c-.78.78-.78 2.05 0 2.83L4 21.41c.39.39.9.59 1.41.59.51 0 1.02-.2 1.41-.59l7.78-7.78 2.81-2.81c.8-.78.8-2.07 0-2.86zM5.41 20L4 18.59l7.72-7.72 1.47 1.35L5.41 20z\"/>\n",
              "  </svg>\n",
              "      </button>\n",
              "      \n",
              "  <style>\n",
              "    .colab-df-container {\n",
              "      display:flex;\n",
              "      flex-wrap:wrap;\n",
              "      gap: 12px;\n",
              "    }\n",
              "\n",
              "    .colab-df-convert {\n",
              "      background-color: #E8F0FE;\n",
              "      border: none;\n",
              "      border-radius: 50%;\n",
              "      cursor: pointer;\n",
              "      display: none;\n",
              "      fill: #1967D2;\n",
              "      height: 32px;\n",
              "      padding: 0 0 0 0;\n",
              "      width: 32px;\n",
              "    }\n",
              "\n",
              "    .colab-df-convert:hover {\n",
              "      background-color: #E2EBFA;\n",
              "      box-shadow: 0px 1px 2px rgba(60, 64, 67, 0.3), 0px 1px 3px 1px rgba(60, 64, 67, 0.15);\n",
              "      fill: #174EA6;\n",
              "    }\n",
              "\n",
              "    [theme=dark] .colab-df-convert {\n",
              "      background-color: #3B4455;\n",
              "      fill: #D2E3FC;\n",
              "    }\n",
              "\n",
              "    [theme=dark] .colab-df-convert:hover {\n",
              "      background-color: #434B5C;\n",
              "      box-shadow: 0px 1px 3px 1px rgba(0, 0, 0, 0.15);\n",
              "      filter: drop-shadow(0px 1px 2px rgba(0, 0, 0, 0.3));\n",
              "      fill: #FFFFFF;\n",
              "    }\n",
              "  </style>\n",
              "\n",
              "      <script>\n",
              "        const buttonEl =\n",
              "          document.querySelector('#df-a358a3e2-35d5-40b8-b158-94825148ff88 button.colab-df-convert');\n",
              "        buttonEl.style.display =\n",
              "          google.colab.kernel.accessAllowed ? 'block' : 'none';\n",
              "\n",
              "        async function convertToInteractive(key) {\n",
              "          const element = document.querySelector('#df-a358a3e2-35d5-40b8-b158-94825148ff88');\n",
              "          const dataTable =\n",
              "            await google.colab.kernel.invokeFunction('convertToInteractive',\n",
              "                                                     [key], {});\n",
              "          if (!dataTable) return;\n",
              "\n",
              "          const docLinkHtml = 'Like what you see? Visit the ' +\n",
              "            '<a target=\"_blank\" href=https://colab.research.google.com/notebooks/data_table.ipynb>data table notebook</a>'\n",
              "            + ' to learn more about interactive tables.';\n",
              "          element.innerHTML = '';\n",
              "          dataTable['output_type'] = 'display_data';\n",
              "          await google.colab.output.renderOutput(dataTable, element);\n",
              "          const docLink = document.createElement('div');\n",
              "          docLink.innerHTML = docLinkHtml;\n",
              "          element.appendChild(docLink);\n",
              "        }\n",
              "      </script>\n",
              "    </div>\n",
              "  </div>\n",
              "  "
            ]
          },
          "metadata": {},
          "execution_count": 21
        }
      ]
    },
    {
      "cell_type": "markdown",
      "source": [
        "# Membuat variabel Profit dari selisih cost dan product_retail_price"
      ],
      "metadata": {
        "id": "glpPZSjQnj5c"
      }
    },
    {
      "cell_type": "code",
      "source": [
        "profit=Inventori_clean['product_retail_price'] - Inventori_clean['cost']"
      ],
      "metadata": {
        "id": "lFZuyMaoOtuT"
      },
      "execution_count": null,
      "outputs": []
    },
    {
      "cell_type": "code",
      "source": [
        "profit"
      ],
      "metadata": {
        "colab": {
          "base_uri": "https://localhost:8080/"
        },
        "id": "Me4senadYmzv",
        "outputId": "60d110b8-ab37-4af1-d25b-42f425bfde10"
      },
      "execution_count": null,
      "outputs": [
        {
          "output_type": "execute_result",
          "data": {
            "text/plain": [
              "0         11.075000\n",
              "4         11.075000\n",
              "7         11.075000\n",
              "9         11.075000\n",
              "12        11.075000\n",
              "            ...    \n",
              "487384    19.967481\n",
              "487386    19.967481\n",
              "487388    19.967481\n",
              "487390    19.967481\n",
              "487392    19.967481\n",
              "Length: 180508, dtype: float64"
            ]
          },
          "metadata": {},
          "execution_count": 23
        }
      ]
    },
    {
      "cell_type": "markdown",
      "source": [
        "Memasukkan variabel profit ke tabel Inventori_clean"
      ],
      "metadata": {
        "id": "OGq2JFGVoAap"
      }
    },
    {
      "cell_type": "code",
      "source": [
        "Inventori_clean['profit']= profit"
      ],
      "metadata": {
        "colab": {
          "base_uri": "https://localhost:8080/"
        },
        "id": "WbIHTVxfYi-o",
        "outputId": "c262fe83-ae28-4fa2-f743-36b9ef91ac28"
      },
      "execution_count": null,
      "outputs": [
        {
          "output_type": "stream",
          "name": "stderr",
          "text": [
            "/usr/local/lib/python3.7/dist-packages/ipykernel_launcher.py:1: SettingWithCopyWarning: \n",
            "A value is trying to be set on a copy of a slice from a DataFrame.\n",
            "Try using .loc[row_indexer,col_indexer] = value instead\n",
            "\n",
            "See the caveats in the documentation: https://pandas.pydata.org/pandas-docs/stable/user_guide/indexing.html#returning-a-view-versus-a-copy\n",
            "  \"\"\"Entry point for launching an IPython kernel.\n"
          ]
        }
      ]
    },
    {
      "cell_type": "code",
      "source": [
        "Inventori_clean.head()"
      ],
      "metadata": {
        "colab": {
          "base_uri": "https://localhost:8080/",
          "height": 530
        },
        "id": "T1vrWtTs7kAj",
        "outputId": "cf2f491a-dbbc-4f46-e9cb-2a23eb45315a"
      },
      "execution_count": null,
      "outputs": [
        {
          "output_type": "execute_result",
          "data": {
            "text/plain": [
              "        id product_id          created_at             sold_at    cost  \\\n",
              "0    90967      16898 2021-07-19 02:20:10 2021-07-20 14:34:10  13.925   \n",
              "4    96715      16898 2020-05-09 11:16:10 2020-06-23 23:59:10  13.925   \n",
              "7   147918      16898 2021-07-22 15:42:55 2021-08-12 12:52:55  13.925   \n",
              "9   166025      16898 2021-02-13 02:34:52 2021-04-06 03:02:52  13.925   \n",
              "12  184137      16898 2022-01-19 04:15:36 2022-01-21 23:51:36  13.925   \n",
              "\n",
              "   product_category                           product_name product_brand  \\\n",
              "0       Tops & Tees  Quiksilver Waterman Men's On The Rise   tanpa_brand   \n",
              "4       Tops & Tees  Quiksilver Waterman Men's On The Rise   tanpa_brand   \n",
              "7       Tops & Tees  Quiksilver Waterman Men's On The Rise   tanpa_brand   \n",
              "9       Tops & Tees  Quiksilver Waterman Men's On The Rise   tanpa_brand   \n",
              "12      Tops & Tees  Quiksilver Waterman Men's On The Rise   tanpa_brand   \n",
              "\n",
              "    product_retail_price product_department                       product_sku  \\\n",
              "0                   25.0                Men  22811EE19846217512507785E74D12CC   \n",
              "4                   25.0                Men  22811EE19846217512507785E74D12CC   \n",
              "7                   25.0                Men  22811EE19846217512507785E74D12CC   \n",
              "9                   25.0                Men  22811EE19846217512507785E74D12CC   \n",
              "12                  25.0                Men  22811EE19846217512507785E74D12CC   \n",
              "\n",
              "   product_distribution_center_id   LPT  profit  \n",
              "0                               3   1.0  11.075  \n",
              "4                               3  45.0  11.075  \n",
              "7                               3  20.0  11.075  \n",
              "9                               3  52.0  11.075  \n",
              "12                              3   2.0  11.075  "
            ],
            "text/html": [
              "\n",
              "  <div id=\"df-b293a65a-378b-453f-bb39-b2d42d36b8fb\">\n",
              "    <div class=\"colab-df-container\">\n",
              "      <div>\n",
              "<style scoped>\n",
              "    .dataframe tbody tr th:only-of-type {\n",
              "        vertical-align: middle;\n",
              "    }\n",
              "\n",
              "    .dataframe tbody tr th {\n",
              "        vertical-align: top;\n",
              "    }\n",
              "\n",
              "    .dataframe thead th {\n",
              "        text-align: right;\n",
              "    }\n",
              "</style>\n",
              "<table border=\"1\" class=\"dataframe\">\n",
              "  <thead>\n",
              "    <tr style=\"text-align: right;\">\n",
              "      <th></th>\n",
              "      <th>id</th>\n",
              "      <th>product_id</th>\n",
              "      <th>created_at</th>\n",
              "      <th>sold_at</th>\n",
              "      <th>cost</th>\n",
              "      <th>product_category</th>\n",
              "      <th>product_name</th>\n",
              "      <th>product_brand</th>\n",
              "      <th>product_retail_price</th>\n",
              "      <th>product_department</th>\n",
              "      <th>product_sku</th>\n",
              "      <th>product_distribution_center_id</th>\n",
              "      <th>LPT</th>\n",
              "      <th>profit</th>\n",
              "    </tr>\n",
              "  </thead>\n",
              "  <tbody>\n",
              "    <tr>\n",
              "      <th>0</th>\n",
              "      <td>90967</td>\n",
              "      <td>16898</td>\n",
              "      <td>2021-07-19 02:20:10</td>\n",
              "      <td>2021-07-20 14:34:10</td>\n",
              "      <td>13.925</td>\n",
              "      <td>Tops &amp; Tees</td>\n",
              "      <td>Quiksilver Waterman Men's On The Rise</td>\n",
              "      <td>tanpa_brand</td>\n",
              "      <td>25.0</td>\n",
              "      <td>Men</td>\n",
              "      <td>22811EE19846217512507785E74D12CC</td>\n",
              "      <td>3</td>\n",
              "      <td>1.0</td>\n",
              "      <td>11.075</td>\n",
              "    </tr>\n",
              "    <tr>\n",
              "      <th>4</th>\n",
              "      <td>96715</td>\n",
              "      <td>16898</td>\n",
              "      <td>2020-05-09 11:16:10</td>\n",
              "      <td>2020-06-23 23:59:10</td>\n",
              "      <td>13.925</td>\n",
              "      <td>Tops &amp; Tees</td>\n",
              "      <td>Quiksilver Waterman Men's On The Rise</td>\n",
              "      <td>tanpa_brand</td>\n",
              "      <td>25.0</td>\n",
              "      <td>Men</td>\n",
              "      <td>22811EE19846217512507785E74D12CC</td>\n",
              "      <td>3</td>\n",
              "      <td>45.0</td>\n",
              "      <td>11.075</td>\n",
              "    </tr>\n",
              "    <tr>\n",
              "      <th>7</th>\n",
              "      <td>147918</td>\n",
              "      <td>16898</td>\n",
              "      <td>2021-07-22 15:42:55</td>\n",
              "      <td>2021-08-12 12:52:55</td>\n",
              "      <td>13.925</td>\n",
              "      <td>Tops &amp; Tees</td>\n",
              "      <td>Quiksilver Waterman Men's On The Rise</td>\n",
              "      <td>tanpa_brand</td>\n",
              "      <td>25.0</td>\n",
              "      <td>Men</td>\n",
              "      <td>22811EE19846217512507785E74D12CC</td>\n",
              "      <td>3</td>\n",
              "      <td>20.0</td>\n",
              "      <td>11.075</td>\n",
              "    </tr>\n",
              "    <tr>\n",
              "      <th>9</th>\n",
              "      <td>166025</td>\n",
              "      <td>16898</td>\n",
              "      <td>2021-02-13 02:34:52</td>\n",
              "      <td>2021-04-06 03:02:52</td>\n",
              "      <td>13.925</td>\n",
              "      <td>Tops &amp; Tees</td>\n",
              "      <td>Quiksilver Waterman Men's On The Rise</td>\n",
              "      <td>tanpa_brand</td>\n",
              "      <td>25.0</td>\n",
              "      <td>Men</td>\n",
              "      <td>22811EE19846217512507785E74D12CC</td>\n",
              "      <td>3</td>\n",
              "      <td>52.0</td>\n",
              "      <td>11.075</td>\n",
              "    </tr>\n",
              "    <tr>\n",
              "      <th>12</th>\n",
              "      <td>184137</td>\n",
              "      <td>16898</td>\n",
              "      <td>2022-01-19 04:15:36</td>\n",
              "      <td>2022-01-21 23:51:36</td>\n",
              "      <td>13.925</td>\n",
              "      <td>Tops &amp; Tees</td>\n",
              "      <td>Quiksilver Waterman Men's On The Rise</td>\n",
              "      <td>tanpa_brand</td>\n",
              "      <td>25.0</td>\n",
              "      <td>Men</td>\n",
              "      <td>22811EE19846217512507785E74D12CC</td>\n",
              "      <td>3</td>\n",
              "      <td>2.0</td>\n",
              "      <td>11.075</td>\n",
              "    </tr>\n",
              "  </tbody>\n",
              "</table>\n",
              "</div>\n",
              "      <button class=\"colab-df-convert\" onclick=\"convertToInteractive('df-b293a65a-378b-453f-bb39-b2d42d36b8fb')\"\n",
              "              title=\"Convert this dataframe to an interactive table.\"\n",
              "              style=\"display:none;\">\n",
              "        \n",
              "  <svg xmlns=\"http://www.w3.org/2000/svg\" height=\"24px\"viewBox=\"0 0 24 24\"\n",
              "       width=\"24px\">\n",
              "    <path d=\"M0 0h24v24H0V0z\" fill=\"none\"/>\n",
              "    <path d=\"M18.56 5.44l.94 2.06.94-2.06 2.06-.94-2.06-.94-.94-2.06-.94 2.06-2.06.94zm-11 1L8.5 8.5l.94-2.06 2.06-.94-2.06-.94L8.5 2.5l-.94 2.06-2.06.94zm10 10l.94 2.06.94-2.06 2.06-.94-2.06-.94-.94-2.06-.94 2.06-2.06.94z\"/><path d=\"M17.41 7.96l-1.37-1.37c-.4-.4-.92-.59-1.43-.59-.52 0-1.04.2-1.43.59L10.3 9.45l-7.72 7.72c-.78.78-.78 2.05 0 2.83L4 21.41c.39.39.9.59 1.41.59.51 0 1.02-.2 1.41-.59l7.78-7.78 2.81-2.81c.8-.78.8-2.07 0-2.86zM5.41 20L4 18.59l7.72-7.72 1.47 1.35L5.41 20z\"/>\n",
              "  </svg>\n",
              "      </button>\n",
              "      \n",
              "  <style>\n",
              "    .colab-df-container {\n",
              "      display:flex;\n",
              "      flex-wrap:wrap;\n",
              "      gap: 12px;\n",
              "    }\n",
              "\n",
              "    .colab-df-convert {\n",
              "      background-color: #E8F0FE;\n",
              "      border: none;\n",
              "      border-radius: 50%;\n",
              "      cursor: pointer;\n",
              "      display: none;\n",
              "      fill: #1967D2;\n",
              "      height: 32px;\n",
              "      padding: 0 0 0 0;\n",
              "      width: 32px;\n",
              "    }\n",
              "\n",
              "    .colab-df-convert:hover {\n",
              "      background-color: #E2EBFA;\n",
              "      box-shadow: 0px 1px 2px rgba(60, 64, 67, 0.3), 0px 1px 3px 1px rgba(60, 64, 67, 0.15);\n",
              "      fill: #174EA6;\n",
              "    }\n",
              "\n",
              "    [theme=dark] .colab-df-convert {\n",
              "      background-color: #3B4455;\n",
              "      fill: #D2E3FC;\n",
              "    }\n",
              "\n",
              "    [theme=dark] .colab-df-convert:hover {\n",
              "      background-color: #434B5C;\n",
              "      box-shadow: 0px 1px 3px 1px rgba(0, 0, 0, 0.15);\n",
              "      filter: drop-shadow(0px 1px 2px rgba(0, 0, 0, 0.3));\n",
              "      fill: #FFFFFF;\n",
              "    }\n",
              "  </style>\n",
              "\n",
              "      <script>\n",
              "        const buttonEl =\n",
              "          document.querySelector('#df-b293a65a-378b-453f-bb39-b2d42d36b8fb button.colab-df-convert');\n",
              "        buttonEl.style.display =\n",
              "          google.colab.kernel.accessAllowed ? 'block' : 'none';\n",
              "\n",
              "        async function convertToInteractive(key) {\n",
              "          const element = document.querySelector('#df-b293a65a-378b-453f-bb39-b2d42d36b8fb');\n",
              "          const dataTable =\n",
              "            await google.colab.kernel.invokeFunction('convertToInteractive',\n",
              "                                                     [key], {});\n",
              "          if (!dataTable) return;\n",
              "\n",
              "          const docLinkHtml = 'Like what you see? Visit the ' +\n",
              "            '<a target=\"_blank\" href=https://colab.research.google.com/notebooks/data_table.ipynb>data table notebook</a>'\n",
              "            + ' to learn more about interactive tables.';\n",
              "          element.innerHTML = '';\n",
              "          dataTable['output_type'] = 'display_data';\n",
              "          await google.colab.output.renderOutput(dataTable, element);\n",
              "          const docLink = document.createElement('div');\n",
              "          docLink.innerHTML = docLinkHtml;\n",
              "          element.appendChild(docLink);\n",
              "        }\n",
              "      </script>\n",
              "    </div>\n",
              "  </div>\n",
              "  "
            ]
          },
          "metadata": {},
          "execution_count": 25
        }
      ]
    },
    {
      "cell_type": "markdown",
      "source": [
        "# Memisahkan data LPT dan Profit"
      ],
      "metadata": {
        "id": "f-cGSRBU6LH6"
      }
    },
    {
      "cell_type": "markdown",
      "source": [
        "Untuk modeling, saya hanya akan menggunakan variabel LPT dan profit guna melihat :\n",
        "1. produk apa saja yang LPT-nya lama dan profitnya kecil \n",
        "2. produk apa saja yang LPT-nya sebentar dan profitnya besar\n",
        "\n",
        "Kita akan namai gabungan variabel LPT dan profit ini sebagai Product_clustering"
      ],
      "metadata": {
        "id": "rvgBgtOj9BYC"
      }
    },
    {
      "cell_type": "code",
      "source": [
        "Product_clustering= Inventori_clean[[ 'LPT', 'profit']]\n",
        "Product_clustering"
      ],
      "metadata": {
        "colab": {
          "base_uri": "https://localhost:8080/",
          "height": 424
        },
        "id": "dO8a4j2WYQ08",
        "outputId": "ec8b4bcc-6537-456c-e6e5-c930567a5d7e"
      },
      "execution_count": null,
      "outputs": [
        {
          "output_type": "execute_result",
          "data": {
            "text/plain": [
              "         LPT     profit\n",
              "0        1.0  11.075000\n",
              "4       45.0  11.075000\n",
              "7       20.0  11.075000\n",
              "9       52.0  11.075000\n",
              "12       2.0  11.075000\n",
              "...      ...        ...\n",
              "487384  59.0  19.967481\n",
              "487386  11.0  19.967481\n",
              "487388   1.0  19.967481\n",
              "487390  57.0  19.967481\n",
              "487392  42.0  19.967481\n",
              "\n",
              "[180508 rows x 2 columns]"
            ],
            "text/html": [
              "\n",
              "  <div id=\"df-84c99b79-27cd-45af-943d-4ece3acceb99\">\n",
              "    <div class=\"colab-df-container\">\n",
              "      <div>\n",
              "<style scoped>\n",
              "    .dataframe tbody tr th:only-of-type {\n",
              "        vertical-align: middle;\n",
              "    }\n",
              "\n",
              "    .dataframe tbody tr th {\n",
              "        vertical-align: top;\n",
              "    }\n",
              "\n",
              "    .dataframe thead th {\n",
              "        text-align: right;\n",
              "    }\n",
              "</style>\n",
              "<table border=\"1\" class=\"dataframe\">\n",
              "  <thead>\n",
              "    <tr style=\"text-align: right;\">\n",
              "      <th></th>\n",
              "      <th>LPT</th>\n",
              "      <th>profit</th>\n",
              "    </tr>\n",
              "  </thead>\n",
              "  <tbody>\n",
              "    <tr>\n",
              "      <th>0</th>\n",
              "      <td>1.0</td>\n",
              "      <td>11.075000</td>\n",
              "    </tr>\n",
              "    <tr>\n",
              "      <th>4</th>\n",
              "      <td>45.0</td>\n",
              "      <td>11.075000</td>\n",
              "    </tr>\n",
              "    <tr>\n",
              "      <th>7</th>\n",
              "      <td>20.0</td>\n",
              "      <td>11.075000</td>\n",
              "    </tr>\n",
              "    <tr>\n",
              "      <th>9</th>\n",
              "      <td>52.0</td>\n",
              "      <td>11.075000</td>\n",
              "    </tr>\n",
              "    <tr>\n",
              "      <th>12</th>\n",
              "      <td>2.0</td>\n",
              "      <td>11.075000</td>\n",
              "    </tr>\n",
              "    <tr>\n",
              "      <th>...</th>\n",
              "      <td>...</td>\n",
              "      <td>...</td>\n",
              "    </tr>\n",
              "    <tr>\n",
              "      <th>487384</th>\n",
              "      <td>59.0</td>\n",
              "      <td>19.967481</td>\n",
              "    </tr>\n",
              "    <tr>\n",
              "      <th>487386</th>\n",
              "      <td>11.0</td>\n",
              "      <td>19.967481</td>\n",
              "    </tr>\n",
              "    <tr>\n",
              "      <th>487388</th>\n",
              "      <td>1.0</td>\n",
              "      <td>19.967481</td>\n",
              "    </tr>\n",
              "    <tr>\n",
              "      <th>487390</th>\n",
              "      <td>57.0</td>\n",
              "      <td>19.967481</td>\n",
              "    </tr>\n",
              "    <tr>\n",
              "      <th>487392</th>\n",
              "      <td>42.0</td>\n",
              "      <td>19.967481</td>\n",
              "    </tr>\n",
              "  </tbody>\n",
              "</table>\n",
              "<p>180508 rows × 2 columns</p>\n",
              "</div>\n",
              "      <button class=\"colab-df-convert\" onclick=\"convertToInteractive('df-84c99b79-27cd-45af-943d-4ece3acceb99')\"\n",
              "              title=\"Convert this dataframe to an interactive table.\"\n",
              "              style=\"display:none;\">\n",
              "        \n",
              "  <svg xmlns=\"http://www.w3.org/2000/svg\" height=\"24px\"viewBox=\"0 0 24 24\"\n",
              "       width=\"24px\">\n",
              "    <path d=\"M0 0h24v24H0V0z\" fill=\"none\"/>\n",
              "    <path d=\"M18.56 5.44l.94 2.06.94-2.06 2.06-.94-2.06-.94-.94-2.06-.94 2.06-2.06.94zm-11 1L8.5 8.5l.94-2.06 2.06-.94-2.06-.94L8.5 2.5l-.94 2.06-2.06.94zm10 10l.94 2.06.94-2.06 2.06-.94-2.06-.94-.94-2.06-.94 2.06-2.06.94z\"/><path d=\"M17.41 7.96l-1.37-1.37c-.4-.4-.92-.59-1.43-.59-.52 0-1.04.2-1.43.59L10.3 9.45l-7.72 7.72c-.78.78-.78 2.05 0 2.83L4 21.41c.39.39.9.59 1.41.59.51 0 1.02-.2 1.41-.59l7.78-7.78 2.81-2.81c.8-.78.8-2.07 0-2.86zM5.41 20L4 18.59l7.72-7.72 1.47 1.35L5.41 20z\"/>\n",
              "  </svg>\n",
              "      </button>\n",
              "      \n",
              "  <style>\n",
              "    .colab-df-container {\n",
              "      display:flex;\n",
              "      flex-wrap:wrap;\n",
              "      gap: 12px;\n",
              "    }\n",
              "\n",
              "    .colab-df-convert {\n",
              "      background-color: #E8F0FE;\n",
              "      border: none;\n",
              "      border-radius: 50%;\n",
              "      cursor: pointer;\n",
              "      display: none;\n",
              "      fill: #1967D2;\n",
              "      height: 32px;\n",
              "      padding: 0 0 0 0;\n",
              "      width: 32px;\n",
              "    }\n",
              "\n",
              "    .colab-df-convert:hover {\n",
              "      background-color: #E2EBFA;\n",
              "      box-shadow: 0px 1px 2px rgba(60, 64, 67, 0.3), 0px 1px 3px 1px rgba(60, 64, 67, 0.15);\n",
              "      fill: #174EA6;\n",
              "    }\n",
              "\n",
              "    [theme=dark] .colab-df-convert {\n",
              "      background-color: #3B4455;\n",
              "      fill: #D2E3FC;\n",
              "    }\n",
              "\n",
              "    [theme=dark] .colab-df-convert:hover {\n",
              "      background-color: #434B5C;\n",
              "      box-shadow: 0px 1px 3px 1px rgba(0, 0, 0, 0.15);\n",
              "      filter: drop-shadow(0px 1px 2px rgba(0, 0, 0, 0.3));\n",
              "      fill: #FFFFFF;\n",
              "    }\n",
              "  </style>\n",
              "\n",
              "      <script>\n",
              "        const buttonEl =\n",
              "          document.querySelector('#df-84c99b79-27cd-45af-943d-4ece3acceb99 button.colab-df-convert');\n",
              "        buttonEl.style.display =\n",
              "          google.colab.kernel.accessAllowed ? 'block' : 'none';\n",
              "\n",
              "        async function convertToInteractive(key) {\n",
              "          const element = document.querySelector('#df-84c99b79-27cd-45af-943d-4ece3acceb99');\n",
              "          const dataTable =\n",
              "            await google.colab.kernel.invokeFunction('convertToInteractive',\n",
              "                                                     [key], {});\n",
              "          if (!dataTable) return;\n",
              "\n",
              "          const docLinkHtml = 'Like what you see? Visit the ' +\n",
              "            '<a target=\"_blank\" href=https://colab.research.google.com/notebooks/data_table.ipynb>data table notebook</a>'\n",
              "            + ' to learn more about interactive tables.';\n",
              "          element.innerHTML = '';\n",
              "          dataTable['output_type'] = 'display_data';\n",
              "          await google.colab.output.renderOutput(dataTable, element);\n",
              "          const docLink = document.createElement('div');\n",
              "          docLink.innerHTML = docLinkHtml;\n",
              "          element.appendChild(docLink);\n",
              "        }\n",
              "      </script>\n",
              "    </div>\n",
              "  </div>\n",
              "  "
            ]
          },
          "metadata": {},
          "execution_count": 26
        }
      ]
    },
    {
      "cell_type": "markdown",
      "source": [
        "# Scalling Product_clustering"
      ],
      "metadata": {
        "id": "Z5kJE77aOtcF"
      }
    },
    {
      "cell_type": "markdown",
      "source": [
        "Di sini saya akan menggunakan standard scaler"
      ],
      "metadata": {
        "id": "tuYdX7tdEUO9"
      }
    },
    {
      "cell_type": "code",
      "source": [
        "#MEMANGGIL STANDARD SCALER\n",
        "scaler = StandardScaler()\n",
        "\n",
        "#MENGGENERATE MODEL\n",
        "scaler.fit(Product_clustering)\n",
        "\n",
        "#MEMBUAT VARIABEL Product_clustering_scaled\n",
        "Product_clustering_scaled = pd.DataFrame(scaler.transform(Product_clustering),columns=Product_clustering.columns)"
      ],
      "metadata": {
        "id": "euUnexYUUncP"
      },
      "execution_count": null,
      "outputs": []
    },
    {
      "cell_type": "code",
      "source": [
        "Product_clustering_scaled"
      ],
      "metadata": {
        "colab": {
          "base_uri": "https://localhost:8080/",
          "height": 424
        },
        "id": "9D0HFU6LXnXw",
        "outputId": "64b2a1f8-8ed6-47cf-9f27-acddb0b25e7a"
      },
      "execution_count": null,
      "outputs": [
        {
          "output_type": "execute_result",
          "data": {
            "text/plain": [
              "             LPT    profit\n",
              "0      -1.643760 -0.551579\n",
              "1       0.894353 -0.551579\n",
              "2      -0.547757 -0.551579\n",
              "3       1.298144 -0.551579\n",
              "4      -1.586076 -0.551579\n",
              "...          ...       ...\n",
              "180503  1.701934 -0.305965\n",
              "180504 -1.066916 -0.305965\n",
              "180505 -1.643760 -0.305965\n",
              "180506  1.586565 -0.305965\n",
              "180507  0.721300 -0.305965\n",
              "\n",
              "[180508 rows x 2 columns]"
            ],
            "text/html": [
              "\n",
              "  <div id=\"df-cae4b9d4-e096-43fb-9ffc-194fd78968d8\">\n",
              "    <div class=\"colab-df-container\">\n",
              "      <div>\n",
              "<style scoped>\n",
              "    .dataframe tbody tr th:only-of-type {\n",
              "        vertical-align: middle;\n",
              "    }\n",
              "\n",
              "    .dataframe tbody tr th {\n",
              "        vertical-align: top;\n",
              "    }\n",
              "\n",
              "    .dataframe thead th {\n",
              "        text-align: right;\n",
              "    }\n",
              "</style>\n",
              "<table border=\"1\" class=\"dataframe\">\n",
              "  <thead>\n",
              "    <tr style=\"text-align: right;\">\n",
              "      <th></th>\n",
              "      <th>LPT</th>\n",
              "      <th>profit</th>\n",
              "    </tr>\n",
              "  </thead>\n",
              "  <tbody>\n",
              "    <tr>\n",
              "      <th>0</th>\n",
              "      <td>-1.643760</td>\n",
              "      <td>-0.551579</td>\n",
              "    </tr>\n",
              "    <tr>\n",
              "      <th>1</th>\n",
              "      <td>0.894353</td>\n",
              "      <td>-0.551579</td>\n",
              "    </tr>\n",
              "    <tr>\n",
              "      <th>2</th>\n",
              "      <td>-0.547757</td>\n",
              "      <td>-0.551579</td>\n",
              "    </tr>\n",
              "    <tr>\n",
              "      <th>3</th>\n",
              "      <td>1.298144</td>\n",
              "      <td>-0.551579</td>\n",
              "    </tr>\n",
              "    <tr>\n",
              "      <th>4</th>\n",
              "      <td>-1.586076</td>\n",
              "      <td>-0.551579</td>\n",
              "    </tr>\n",
              "    <tr>\n",
              "      <th>...</th>\n",
              "      <td>...</td>\n",
              "      <td>...</td>\n",
              "    </tr>\n",
              "    <tr>\n",
              "      <th>180503</th>\n",
              "      <td>1.701934</td>\n",
              "      <td>-0.305965</td>\n",
              "    </tr>\n",
              "    <tr>\n",
              "      <th>180504</th>\n",
              "      <td>-1.066916</td>\n",
              "      <td>-0.305965</td>\n",
              "    </tr>\n",
              "    <tr>\n",
              "      <th>180505</th>\n",
              "      <td>-1.643760</td>\n",
              "      <td>-0.305965</td>\n",
              "    </tr>\n",
              "    <tr>\n",
              "      <th>180506</th>\n",
              "      <td>1.586565</td>\n",
              "      <td>-0.305965</td>\n",
              "    </tr>\n",
              "    <tr>\n",
              "      <th>180507</th>\n",
              "      <td>0.721300</td>\n",
              "      <td>-0.305965</td>\n",
              "    </tr>\n",
              "  </tbody>\n",
              "</table>\n",
              "<p>180508 rows × 2 columns</p>\n",
              "</div>\n",
              "      <button class=\"colab-df-convert\" onclick=\"convertToInteractive('df-cae4b9d4-e096-43fb-9ffc-194fd78968d8')\"\n",
              "              title=\"Convert this dataframe to an interactive table.\"\n",
              "              style=\"display:none;\">\n",
              "        \n",
              "  <svg xmlns=\"http://www.w3.org/2000/svg\" height=\"24px\"viewBox=\"0 0 24 24\"\n",
              "       width=\"24px\">\n",
              "    <path d=\"M0 0h24v24H0V0z\" fill=\"none\"/>\n",
              "    <path d=\"M18.56 5.44l.94 2.06.94-2.06 2.06-.94-2.06-.94-.94-2.06-.94 2.06-2.06.94zm-11 1L8.5 8.5l.94-2.06 2.06-.94-2.06-.94L8.5 2.5l-.94 2.06-2.06.94zm10 10l.94 2.06.94-2.06 2.06-.94-2.06-.94-.94-2.06-.94 2.06-2.06.94z\"/><path d=\"M17.41 7.96l-1.37-1.37c-.4-.4-.92-.59-1.43-.59-.52 0-1.04.2-1.43.59L10.3 9.45l-7.72 7.72c-.78.78-.78 2.05 0 2.83L4 21.41c.39.39.9.59 1.41.59.51 0 1.02-.2 1.41-.59l7.78-7.78 2.81-2.81c.8-.78.8-2.07 0-2.86zM5.41 20L4 18.59l7.72-7.72 1.47 1.35L5.41 20z\"/>\n",
              "  </svg>\n",
              "      </button>\n",
              "      \n",
              "  <style>\n",
              "    .colab-df-container {\n",
              "      display:flex;\n",
              "      flex-wrap:wrap;\n",
              "      gap: 12px;\n",
              "    }\n",
              "\n",
              "    .colab-df-convert {\n",
              "      background-color: #E8F0FE;\n",
              "      border: none;\n",
              "      border-radius: 50%;\n",
              "      cursor: pointer;\n",
              "      display: none;\n",
              "      fill: #1967D2;\n",
              "      height: 32px;\n",
              "      padding: 0 0 0 0;\n",
              "      width: 32px;\n",
              "    }\n",
              "\n",
              "    .colab-df-convert:hover {\n",
              "      background-color: #E2EBFA;\n",
              "      box-shadow: 0px 1px 2px rgba(60, 64, 67, 0.3), 0px 1px 3px 1px rgba(60, 64, 67, 0.15);\n",
              "      fill: #174EA6;\n",
              "    }\n",
              "\n",
              "    [theme=dark] .colab-df-convert {\n",
              "      background-color: #3B4455;\n",
              "      fill: #D2E3FC;\n",
              "    }\n",
              "\n",
              "    [theme=dark] .colab-df-convert:hover {\n",
              "      background-color: #434B5C;\n",
              "      box-shadow: 0px 1px 3px 1px rgba(0, 0, 0, 0.15);\n",
              "      filter: drop-shadow(0px 1px 2px rgba(0, 0, 0, 0.3));\n",
              "      fill: #FFFFFF;\n",
              "    }\n",
              "  </style>\n",
              "\n",
              "      <script>\n",
              "        const buttonEl =\n",
              "          document.querySelector('#df-cae4b9d4-e096-43fb-9ffc-194fd78968d8 button.colab-df-convert');\n",
              "        buttonEl.style.display =\n",
              "          google.colab.kernel.accessAllowed ? 'block' : 'none';\n",
              "\n",
              "        async function convertToInteractive(key) {\n",
              "          const element = document.querySelector('#df-cae4b9d4-e096-43fb-9ffc-194fd78968d8');\n",
              "          const dataTable =\n",
              "            await google.colab.kernel.invokeFunction('convertToInteractive',\n",
              "                                                     [key], {});\n",
              "          if (!dataTable) return;\n",
              "\n",
              "          const docLinkHtml = 'Like what you see? Visit the ' +\n",
              "            '<a target=\"_blank\" href=https://colab.research.google.com/notebooks/data_table.ipynb>data table notebook</a>'\n",
              "            + ' to learn more about interactive tables.';\n",
              "          element.innerHTML = '';\n",
              "          dataTable['output_type'] = 'display_data';\n",
              "          await google.colab.output.renderOutput(dataTable, element);\n",
              "          const docLink = document.createElement('div');\n",
              "          docLink.innerHTML = docLinkHtml;\n",
              "          element.appendChild(docLink);\n",
              "        }\n",
              "      </script>\n",
              "    </div>\n",
              "  </div>\n",
              "  "
            ]
          },
          "metadata": {},
          "execution_count": 28
        }
      ]
    },
    {
      "cell_type": "markdown",
      "source": [
        "Data sudah discalling dan siap dimodelkan!"
      ],
      "metadata": {
        "id": "Wx-ABxFFPHbZ"
      }
    },
    {
      "cell_type": "markdown",
      "source": [
        "# Clustering coba-coba dengan nilai k=5"
      ],
      "metadata": {
        "id": "t713PbXzPOXD"
      }
    },
    {
      "cell_type": "markdown",
      "source": [
        "Clusteringnya akan menggunakan algoritma K-means"
      ],
      "metadata": {
        "id": "NivMyDDHEnjo"
      }
    },
    {
      "cell_type": "code",
      "source": [
        "K = 5\n",
        "kmeans_5 = KMeans(n_clusters=K, random_state=11) #memanggil model\n",
        "\n",
        "start = time()\n",
        "kmeans_5.fit(Product_clustering_scaled)\n",
        "print(f\"Done fitting kMeans in {time()-start:.3f}s\")"
      ],
      "metadata": {
        "colab": {
          "base_uri": "https://localhost:8080/"
        },
        "id": "JYYRnx84X9YA",
        "outputId": "88d19539-d952-4ea2-a1d4-297f34fcd1c8"
      },
      "execution_count": null,
      "outputs": [
        {
          "output_type": "stream",
          "name": "stdout",
          "text": [
            "Done fitting kMeans in 2.852s\n"
          ]
        }
      ]
    },
    {
      "cell_type": "code",
      "source": [
        "#predict() untuk memprediksi nilai sesuai dengan k, kita simpan hasilnya sebagai cluster_5\n",
        "cluster_5=kmeans_5.predict(Product_clustering_scaled)  "
      ],
      "metadata": {
        "id": "jycLD0r9cm0r"
      },
      "execution_count": null,
      "outputs": []
    },
    {
      "cell_type": "code",
      "source": [
        "cluster_5"
      ],
      "metadata": {
        "colab": {
          "base_uri": "https://localhost:8080/"
        },
        "id": "pgjWLf9Jc7ht",
        "outputId": "534ef7dd-6baf-4c6d-f7bf-8730a893382c"
      },
      "execution_count": null,
      "outputs": [
        {
          "output_type": "execute_result",
          "data": {
            "text/plain": [
              "array([1, 2, 3, ..., 1, 2, 2], dtype=int32)"
            ]
          },
          "metadata": {},
          "execution_count": 31
        }
      ]
    },
    {
      "cell_type": "markdown",
      "source": [
        "Next, saya akan membuat kolom baru pada data Inventori_clean yang merepresentasikan cluster dari model-model tersebut."
      ],
      "metadata": {
        "id": "ebFe1JsAQlMs"
      }
    },
    {
      "cell_type": "code",
      "source": [
        "Inventori_clean['cluster_5']=cluster_5"
      ],
      "metadata": {
        "colab": {
          "base_uri": "https://localhost:8080/"
        },
        "id": "l1EtwF6vcLUs",
        "outputId": "d978d240-e259-47d5-b3c0-edab965dcc4c"
      },
      "execution_count": null,
      "outputs": [
        {
          "output_type": "stream",
          "name": "stderr",
          "text": [
            "/usr/local/lib/python3.7/dist-packages/ipykernel_launcher.py:1: SettingWithCopyWarning: \n",
            "A value is trying to be set on a copy of a slice from a DataFrame.\n",
            "Try using .loc[row_indexer,col_indexer] = value instead\n",
            "\n",
            "See the caveats in the documentation: https://pandas.pydata.org/pandas-docs/stable/user_guide/indexing.html#returning-a-view-versus-a-copy\n",
            "  \"\"\"Entry point for launching an IPython kernel.\n"
          ]
        }
      ]
    },
    {
      "cell_type": "markdown",
      "source": [
        "Cek cek cekkk.."
      ],
      "metadata": {
        "id": "5c-0GYxGQtTO"
      }
    },
    {
      "cell_type": "code",
      "source": [
        "Inventori_clean.head()"
      ],
      "metadata": {
        "colab": {
          "base_uri": "https://localhost:8080/",
          "height": 530
        },
        "id": "WfGCa95jdZiQ",
        "outputId": "fd205f53-0dfa-4264-f932-b1fc6780c326"
      },
      "execution_count": null,
      "outputs": [
        {
          "output_type": "execute_result",
          "data": {
            "text/plain": [
              "        id product_id          created_at             sold_at    cost  \\\n",
              "0    90967      16898 2021-07-19 02:20:10 2021-07-20 14:34:10  13.925   \n",
              "4    96715      16898 2020-05-09 11:16:10 2020-06-23 23:59:10  13.925   \n",
              "7   147918      16898 2021-07-22 15:42:55 2021-08-12 12:52:55  13.925   \n",
              "9   166025      16898 2021-02-13 02:34:52 2021-04-06 03:02:52  13.925   \n",
              "12  184137      16898 2022-01-19 04:15:36 2022-01-21 23:51:36  13.925   \n",
              "\n",
              "   product_category                           product_name product_brand  \\\n",
              "0       Tops & Tees  Quiksilver Waterman Men's On The Rise   tanpa_brand   \n",
              "4       Tops & Tees  Quiksilver Waterman Men's On The Rise   tanpa_brand   \n",
              "7       Tops & Tees  Quiksilver Waterman Men's On The Rise   tanpa_brand   \n",
              "9       Tops & Tees  Quiksilver Waterman Men's On The Rise   tanpa_brand   \n",
              "12      Tops & Tees  Quiksilver Waterman Men's On The Rise   tanpa_brand   \n",
              "\n",
              "    product_retail_price product_department                       product_sku  \\\n",
              "0                   25.0                Men  22811EE19846217512507785E74D12CC   \n",
              "4                   25.0                Men  22811EE19846217512507785E74D12CC   \n",
              "7                   25.0                Men  22811EE19846217512507785E74D12CC   \n",
              "9                   25.0                Men  22811EE19846217512507785E74D12CC   \n",
              "12                  25.0                Men  22811EE19846217512507785E74D12CC   \n",
              "\n",
              "   product_distribution_center_id   LPT  profit  cluster_5  \n",
              "0                               3   1.0  11.075          1  \n",
              "4                               3  45.0  11.075          2  \n",
              "7                               3  20.0  11.075          3  \n",
              "9                               3  52.0  11.075          2  \n",
              "12                              3   2.0  11.075          1  "
            ],
            "text/html": [
              "\n",
              "  <div id=\"df-4207c64c-6571-4343-bd18-bfbda38c436a\">\n",
              "    <div class=\"colab-df-container\">\n",
              "      <div>\n",
              "<style scoped>\n",
              "    .dataframe tbody tr th:only-of-type {\n",
              "        vertical-align: middle;\n",
              "    }\n",
              "\n",
              "    .dataframe tbody tr th {\n",
              "        vertical-align: top;\n",
              "    }\n",
              "\n",
              "    .dataframe thead th {\n",
              "        text-align: right;\n",
              "    }\n",
              "</style>\n",
              "<table border=\"1\" class=\"dataframe\">\n",
              "  <thead>\n",
              "    <tr style=\"text-align: right;\">\n",
              "      <th></th>\n",
              "      <th>id</th>\n",
              "      <th>product_id</th>\n",
              "      <th>created_at</th>\n",
              "      <th>sold_at</th>\n",
              "      <th>cost</th>\n",
              "      <th>product_category</th>\n",
              "      <th>product_name</th>\n",
              "      <th>product_brand</th>\n",
              "      <th>product_retail_price</th>\n",
              "      <th>product_department</th>\n",
              "      <th>product_sku</th>\n",
              "      <th>product_distribution_center_id</th>\n",
              "      <th>LPT</th>\n",
              "      <th>profit</th>\n",
              "      <th>cluster_5</th>\n",
              "    </tr>\n",
              "  </thead>\n",
              "  <tbody>\n",
              "    <tr>\n",
              "      <th>0</th>\n",
              "      <td>90967</td>\n",
              "      <td>16898</td>\n",
              "      <td>2021-07-19 02:20:10</td>\n",
              "      <td>2021-07-20 14:34:10</td>\n",
              "      <td>13.925</td>\n",
              "      <td>Tops &amp; Tees</td>\n",
              "      <td>Quiksilver Waterman Men's On The Rise</td>\n",
              "      <td>tanpa_brand</td>\n",
              "      <td>25.0</td>\n",
              "      <td>Men</td>\n",
              "      <td>22811EE19846217512507785E74D12CC</td>\n",
              "      <td>3</td>\n",
              "      <td>1.0</td>\n",
              "      <td>11.075</td>\n",
              "      <td>1</td>\n",
              "    </tr>\n",
              "    <tr>\n",
              "      <th>4</th>\n",
              "      <td>96715</td>\n",
              "      <td>16898</td>\n",
              "      <td>2020-05-09 11:16:10</td>\n",
              "      <td>2020-06-23 23:59:10</td>\n",
              "      <td>13.925</td>\n",
              "      <td>Tops &amp; Tees</td>\n",
              "      <td>Quiksilver Waterman Men's On The Rise</td>\n",
              "      <td>tanpa_brand</td>\n",
              "      <td>25.0</td>\n",
              "      <td>Men</td>\n",
              "      <td>22811EE19846217512507785E74D12CC</td>\n",
              "      <td>3</td>\n",
              "      <td>45.0</td>\n",
              "      <td>11.075</td>\n",
              "      <td>2</td>\n",
              "    </tr>\n",
              "    <tr>\n",
              "      <th>7</th>\n",
              "      <td>147918</td>\n",
              "      <td>16898</td>\n",
              "      <td>2021-07-22 15:42:55</td>\n",
              "      <td>2021-08-12 12:52:55</td>\n",
              "      <td>13.925</td>\n",
              "      <td>Tops &amp; Tees</td>\n",
              "      <td>Quiksilver Waterman Men's On The Rise</td>\n",
              "      <td>tanpa_brand</td>\n",
              "      <td>25.0</td>\n",
              "      <td>Men</td>\n",
              "      <td>22811EE19846217512507785E74D12CC</td>\n",
              "      <td>3</td>\n",
              "      <td>20.0</td>\n",
              "      <td>11.075</td>\n",
              "      <td>3</td>\n",
              "    </tr>\n",
              "    <tr>\n",
              "      <th>9</th>\n",
              "      <td>166025</td>\n",
              "      <td>16898</td>\n",
              "      <td>2021-02-13 02:34:52</td>\n",
              "      <td>2021-04-06 03:02:52</td>\n",
              "      <td>13.925</td>\n",
              "      <td>Tops &amp; Tees</td>\n",
              "      <td>Quiksilver Waterman Men's On The Rise</td>\n",
              "      <td>tanpa_brand</td>\n",
              "      <td>25.0</td>\n",
              "      <td>Men</td>\n",
              "      <td>22811EE19846217512507785E74D12CC</td>\n",
              "      <td>3</td>\n",
              "      <td>52.0</td>\n",
              "      <td>11.075</td>\n",
              "      <td>2</td>\n",
              "    </tr>\n",
              "    <tr>\n",
              "      <th>12</th>\n",
              "      <td>184137</td>\n",
              "      <td>16898</td>\n",
              "      <td>2022-01-19 04:15:36</td>\n",
              "      <td>2022-01-21 23:51:36</td>\n",
              "      <td>13.925</td>\n",
              "      <td>Tops &amp; Tees</td>\n",
              "      <td>Quiksilver Waterman Men's On The Rise</td>\n",
              "      <td>tanpa_brand</td>\n",
              "      <td>25.0</td>\n",
              "      <td>Men</td>\n",
              "      <td>22811EE19846217512507785E74D12CC</td>\n",
              "      <td>3</td>\n",
              "      <td>2.0</td>\n",
              "      <td>11.075</td>\n",
              "      <td>1</td>\n",
              "    </tr>\n",
              "  </tbody>\n",
              "</table>\n",
              "</div>\n",
              "      <button class=\"colab-df-convert\" onclick=\"convertToInteractive('df-4207c64c-6571-4343-bd18-bfbda38c436a')\"\n",
              "              title=\"Convert this dataframe to an interactive table.\"\n",
              "              style=\"display:none;\">\n",
              "        \n",
              "  <svg xmlns=\"http://www.w3.org/2000/svg\" height=\"24px\"viewBox=\"0 0 24 24\"\n",
              "       width=\"24px\">\n",
              "    <path d=\"M0 0h24v24H0V0z\" fill=\"none\"/>\n",
              "    <path d=\"M18.56 5.44l.94 2.06.94-2.06 2.06-.94-2.06-.94-.94-2.06-.94 2.06-2.06.94zm-11 1L8.5 8.5l.94-2.06 2.06-.94-2.06-.94L8.5 2.5l-.94 2.06-2.06.94zm10 10l.94 2.06.94-2.06 2.06-.94-2.06-.94-.94-2.06-.94 2.06-2.06.94z\"/><path d=\"M17.41 7.96l-1.37-1.37c-.4-.4-.92-.59-1.43-.59-.52 0-1.04.2-1.43.59L10.3 9.45l-7.72 7.72c-.78.78-.78 2.05 0 2.83L4 21.41c.39.39.9.59 1.41.59.51 0 1.02-.2 1.41-.59l7.78-7.78 2.81-2.81c.8-.78.8-2.07 0-2.86zM5.41 20L4 18.59l7.72-7.72 1.47 1.35L5.41 20z\"/>\n",
              "  </svg>\n",
              "      </button>\n",
              "      \n",
              "  <style>\n",
              "    .colab-df-container {\n",
              "      display:flex;\n",
              "      flex-wrap:wrap;\n",
              "      gap: 12px;\n",
              "    }\n",
              "\n",
              "    .colab-df-convert {\n",
              "      background-color: #E8F0FE;\n",
              "      border: none;\n",
              "      border-radius: 50%;\n",
              "      cursor: pointer;\n",
              "      display: none;\n",
              "      fill: #1967D2;\n",
              "      height: 32px;\n",
              "      padding: 0 0 0 0;\n",
              "      width: 32px;\n",
              "    }\n",
              "\n",
              "    .colab-df-convert:hover {\n",
              "      background-color: #E2EBFA;\n",
              "      box-shadow: 0px 1px 2px rgba(60, 64, 67, 0.3), 0px 1px 3px 1px rgba(60, 64, 67, 0.15);\n",
              "      fill: #174EA6;\n",
              "    }\n",
              "\n",
              "    [theme=dark] .colab-df-convert {\n",
              "      background-color: #3B4455;\n",
              "      fill: #D2E3FC;\n",
              "    }\n",
              "\n",
              "    [theme=dark] .colab-df-convert:hover {\n",
              "      background-color: #434B5C;\n",
              "      box-shadow: 0px 1px 3px 1px rgba(0, 0, 0, 0.15);\n",
              "      filter: drop-shadow(0px 1px 2px rgba(0, 0, 0, 0.3));\n",
              "      fill: #FFFFFF;\n",
              "    }\n",
              "  </style>\n",
              "\n",
              "      <script>\n",
              "        const buttonEl =\n",
              "          document.querySelector('#df-4207c64c-6571-4343-bd18-bfbda38c436a button.colab-df-convert');\n",
              "        buttonEl.style.display =\n",
              "          google.colab.kernel.accessAllowed ? 'block' : 'none';\n",
              "\n",
              "        async function convertToInteractive(key) {\n",
              "          const element = document.querySelector('#df-4207c64c-6571-4343-bd18-bfbda38c436a');\n",
              "          const dataTable =\n",
              "            await google.colab.kernel.invokeFunction('convertToInteractive',\n",
              "                                                     [key], {});\n",
              "          if (!dataTable) return;\n",
              "\n",
              "          const docLinkHtml = 'Like what you see? Visit the ' +\n",
              "            '<a target=\"_blank\" href=https://colab.research.google.com/notebooks/data_table.ipynb>data table notebook</a>'\n",
              "            + ' to learn more about interactive tables.';\n",
              "          element.innerHTML = '';\n",
              "          dataTable['output_type'] = 'display_data';\n",
              "          await google.colab.output.renderOutput(dataTable, element);\n",
              "          const docLink = document.createElement('div');\n",
              "          docLink.innerHTML = docLinkHtml;\n",
              "          element.appendChild(docLink);\n",
              "        }\n",
              "      </script>\n",
              "    </div>\n",
              "  </div>\n",
              "  "
            ]
          },
          "metadata": {},
          "execution_count": 33
        }
      ]
    },
    {
      "cell_type": "markdown",
      "source": [
        "BERHASIL!"
      ],
      "metadata": {
        "id": "C9ybx5WNRCPy"
      }
    },
    {
      "cell_type": "markdown",
      "source": [
        "# Selanjutnya, kita buat visualisasinya "
      ],
      "metadata": {
        "id": "v7uF2DNnRjUp"
      }
    },
    {
      "cell_type": "code",
      "source": [
        "sns.pairplot(Inventori_clean, vars=[\"LPT\", \"profit\"], hue=\"cluster_5\", palette=\"Paired\")\n",
        "plt.show()"
      ],
      "metadata": {
        "colab": {
          "base_uri": "https://localhost:8080/",
          "height": 370
        },
        "id": "3uI_Jw3oRpQl",
        "outputId": "0d5bae09-9407-4735-96e6-d2a93862be2f"
      },
      "execution_count": null,
      "outputs": [
        {
          "output_type": "display_data",
          "data": {
            "text/plain": [
              "<Figure size 425x360 with 6 Axes>"
            ],
            "image/png": "[encoded data removed]"
          },
          "metadata": {}
        }
      ]
    },
    {
      "cell_type": "markdown",
      "source": [
        "Visualisasi ini belum bisa menggambarkan dengan baik persebaran cluster (tidak bisa melihat centroid, jarak dari anggota cluster ke centroid) visualisasi yang lebih baik akan ditampilkan pada CP5 menggunakan Tableau"
      ],
      "metadata": {
        "id": "hH1aLnGf0q6i"
      }
    },
    {
      "cell_type": "markdown",
      "source": [
        "# Cardinality cluster_5"
      ],
      "metadata": {
        "id": "6yL8g6HSpoWU"
      }
    },
    {
      "cell_type": "markdown",
      "source": [
        "cardinality itu sederhananya jumlah anggota tiap cluster.\n",
        "Akan saya visualisasikan pakai plot_count"
      ],
      "metadata": {
        "id": "qjuN3BTSp5ZL"
      }
    },
    {
      "cell_type": "code",
      "source": [
        "plot_count(x=\"cluster_5\", data=Inventori_clean)"
      ],
      "metadata": {
        "colab": {
          "base_uri": "https://localhost:8080/",
          "height": 359
        },
        "id": "sIxH1OIS4H6c",
        "outputId": "9c8f07cf-eeaa-48f3-8c0d-ef889e5f8aa8"
      },
      "execution_count": null,
      "outputs": [
        {
          "output_type": "display_data",
          "data": {
            "text/plain": [
              "<Figure size 720x360 with 1 Axes>"
            ],
            "image/png": "[encoded data removed]"
          },
          "metadata": {}
        }
      ]
    },
    {
      "cell_type": "markdown",
      "source": [
        "Insight \n",
        "\n",
        "\n",
        "*   Terlihat perbedaan yang cukup jauh antara cluster 1,2,3 dengan cluster 0 dan 4\n",
        "*   Kardinalitas yang ekstrim ini bisa ditelaah lebih jauh mengenai karakteristik produk di dalamnya\n",
        "\n"
      ],
      "metadata": {
        "id": "0O7eFD_quAJq"
      }
    },
    {
      "cell_type": "markdown",
      "source": [
        "# Magnitude cluster_5"
      ],
      "metadata": {
        "id": "TFhYvfsHqpay"
      }
    },
    {
      "cell_type": "markdown",
      "source": [
        "magnitude itu merujuk ke hasil penjumlahan jarak seluruh anggota sebuah cluster terhadap centroid cluster tersebut"
      ],
      "metadata": {
        "id": "XXz6VGzfvQ_N"
      }
    },
    {
      "cell_type": "code",
      "source": [
        "fig, axis = plt.subplots(1,2, figsize=(18, 6))\n",
        "for ax, model, name in zip(axis,[kmeans_5],[\"kmeans_5\"]):\n",
        "    distances = model.transform(Product_clustering_scaled)\n",
        "    preds = model.predict(Product_clustering_scaled)\n",
        "    inertia_per_cluster = np.array([sum(dist[c]**2 for dist, c in zip(distances, preds) if c == cluster)\n",
        "        for cluster in range(model.n_clusters)])\n",
        "    ax.bar(x=range(model.n_clusters), height=inertia_per_cluster)\n",
        "    ax.set_title(name)\n",
        "plt.suptitle(\"Cluster Magnitude\")\n",
        "plt.show()"
      ],
      "metadata": {
        "colab": {
          "base_uri": "https://localhost:8080/",
          "height": 441
        },
        "id": "v08EzdGEeGZh",
        "outputId": "477e828c-4b22-40f8-9fd9-c7b594865c52"
      },
      "execution_count": null,
      "outputs": [
        {
          "output_type": "display_data",
          "data": {
            "text/plain": [
              "<Figure size 1296x432 with 2 Axes>"
            ],
            "image/png": "[encoded data removed]"
          },
          "metadata": {}
        }
      ]
    },
    {
      "cell_type": "markdown",
      "source": [
        "insight \n",
        "\n",
        "\n",
        "*   Perlu diketahui bahwa, jika cardinality sebuah cluster tinggi maka magnitudenya seharusnya tinggi juga\n",
        "*   Terdapat anomali pada cluster 0 di mana cardinality nya rendah tapi magnitudenya tinggi, hal ini bermakna dalam cluster 0 anggotanya sedikit tapi jaraknya berjauhan\n",
        "*   Hal serupa terjadi pada cluster 4, namun tidak terlalu parah\n",
        "\n",
        "*   Pada cluster 1,2, dan 3 sudah menunjukan hasil yang cukup baik\n",
        "\n",
        "\n",
        "\n",
        "\n",
        "\n"
      ],
      "metadata": {
        "id": "qM6iwssIwER2"
      }
    },
    {
      "cell_type": "markdown",
      "source": [
        "# Selanjutnya, kita akan mencari nilai silhoutte_score \n",
        "silhoutte_score digunakan untuk menentukan jumlah cluster paling optimal. Angkanya dari -1 (jelek) sampai 1 (bagus). score yang bagus pasti separationnya lebih besar dari pada cohesionnya."
      ],
      "metadata": {
        "id": "NAIW5wHi09tH"
      }
    },
    {
      "cell_type": "code",
      "source": [
        "silhouette_scores = []\n",
        "\n",
        "for k in range(2, 7):\n",
        "    model = KMeans(n_clusters=k, random_state=11)\n",
        "    print(f\"Clustering with n_clusters={k}\")\n",
        "    start = time()\n",
        "    model.fit(Product_clustering_scaled)\n",
        "    print(f\"Done clustering in {time()-start:.3f}s\")\n",
        "\n",
        "    print(\"Calculating silhouette coefficient..\")\n",
        "    start = time()\n",
        "    silhouette_scores.append(silhouette_score(Product_clustering_scaled, model.labels_))\n",
        "    print(f\"Done calculating in {time()-start:.3f}s\")"
      ],
      "metadata": {
        "colab": {
          "base_uri": "https://localhost:8080/"
        },
        "id": "AN4TID4XfMXq",
        "outputId": "c61efac4-5afa-4bfc-a84d-8e1c71eb8c16"
      },
      "execution_count": null,
      "outputs": [
        {
          "output_type": "stream",
          "name": "stdout",
          "text": [
            "Clustering with n_clusters=2\n",
            "Done clustering in 1.268s\n",
            "Calculating silhouette coefficient..\n",
            "Done calculating in 377.617s\n",
            "Clustering with n_clusters=3\n",
            "Done clustering in 1.738s\n",
            "Calculating silhouette coefficient..\n",
            "Done calculating in 358.500s\n",
            "Clustering with n_clusters=4\n",
            "Done clustering in 2.751s\n",
            "Calculating silhouette coefficient..\n",
            "Done calculating in 368.368s\n",
            "Clustering with n_clusters=5\n",
            "Done clustering in 2.947s\n",
            "Calculating silhouette coefficient..\n",
            "Done calculating in 351.861s\n",
            "Clustering with n_clusters=6\n",
            "Done clustering in 4.263s\n",
            "Calculating silhouette coefficient..\n",
            "Done calculating in 340.908s\n"
          ]
        }
      ]
    },
    {
      "cell_type": "markdown",
      "source": [
        "Kita visualize"
      ],
      "metadata": {
        "id": "2ft2QA5Y1Oou"
      }
    },
    {
      "cell_type": "code",
      "source": [
        "plt.figure(figsize=(12, 6))\n",
        "sns.lineplot(x=range(2, 7), y=silhouette_scores)\n",
        "sns.scatterplot(x=range(2, 7), y=silhouette_scores)\n",
        "plt.xticks(range(1, 8))\n",
        "plt.show()"
      ],
      "metadata": {
        "colab": {
          "base_uri": "https://localhost:8080/",
          "height": 398
        },
        "id": "UBxfnKX7pbiQ",
        "outputId": "d7be1a28-efc6-45b0-8622-ea01cfc03729"
      },
      "execution_count": null,
      "outputs": [
        {
          "output_type": "display_data",
          "data": {
            "text/plain": [
              "<Figure size 864x432 with 1 Axes>"
            ],
            "image/png": "[encoded data removed]"
          },
          "metadata": {}
        }
      ]
    },
    {
      "cell_type": "markdown",
      "source": [
        "Terlihat bahwa nilai silhouette_score yang paling tinggi terjadi ketika jumlah cluster adalah 4"
      ],
      "metadata": {
        "id": "ZGCnXt2a1SyE"
      }
    },
    {
      "cell_type": "markdown",
      "source": [
        "# Membuat clustering model dengan nilai k=4\n",
        "\n",
        "Langkah-langkah yang akan kita lakukan sama persis dengan ketika membuat model dengan k = 5 di atas"
      ],
      "metadata": {
        "id": "37SIBpwX19RM"
      }
    },
    {
      "cell_type": "code",
      "source": [
        "K = 4\n",
        "kmeans_4 = KMeans(n_clusters=K, random_state=11) #memanggil model\n",
        "\n",
        "start = time()\n",
        "kmeans_4.fit(Product_clustering_scaled)\n",
        "print(f\"Done fitting kMeans in {time()-start:.3f}s\")"
      ],
      "metadata": {
        "colab": {
          "base_uri": "https://localhost:8080/"
        },
        "id": "-j99P_mvE1rM",
        "outputId": "62163fa0-b7bd-4f8b-c245-9985381d106a"
      },
      "execution_count": null,
      "outputs": [
        {
          "output_type": "stream",
          "name": "stdout",
          "text": [
            "Done fitting kMeans in 2.511s\n"
          ]
        }
      ]
    },
    {
      "cell_type": "markdown",
      "source": [
        "predict() untuk memprediksi nilai sesuai dengan k, kita simpan hasilnya sebagai cluster_4"
      ],
      "metadata": {
        "id": "GdI-20__CXxe"
      }
    },
    {
      "cell_type": "code",
      "source": [
        "cluster_4=kmeans_4.predict(Product_clustering_scaled)"
      ],
      "metadata": {
        "id": "5HVothcxFRPk"
      },
      "execution_count": null,
      "outputs": []
    },
    {
      "cell_type": "markdown",
      "source": [
        "memasukkan cluster_4 ke Inventori_clean"
      ],
      "metadata": {
        "id": "tnVJuL7HCTHA"
      }
    },
    {
      "cell_type": "code",
      "source": [
        "Inventori_clean['cluster_4']=cluster_4"
      ],
      "metadata": {
        "colab": {
          "base_uri": "https://localhost:8080/"
        },
        "id": "qvYfLWHuFZVR",
        "outputId": "a0871060-bbaa-4ad0-c5cd-2cc4919daf3f"
      },
      "execution_count": null,
      "outputs": [
        {
          "output_type": "stream",
          "name": "stderr",
          "text": [
            "/usr/local/lib/python3.7/dist-packages/ipykernel_launcher.py:1: SettingWithCopyWarning: \n",
            "A value is trying to be set on a copy of a slice from a DataFrame.\n",
            "Try using .loc[row_indexer,col_indexer] = value instead\n",
            "\n",
            "See the caveats in the documentation: https://pandas.pydata.org/pandas-docs/stable/user_guide/indexing.html#returning-a-view-versus-a-copy\n",
            "  \"\"\"Entry point for launching an IPython kernel.\n"
          ]
        }
      ]
    },
    {
      "cell_type": "markdown",
      "source": [
        "Kita cek dan bandingkan"
      ],
      "metadata": {
        "id": "1iJiAFSXCO56"
      }
    },
    {
      "cell_type": "code",
      "source": [
        "Inventori_clean[['LPT', 'profit', 'cluster_4', 'cluster_5']]"
      ],
      "metadata": {
        "colab": {
          "base_uri": "https://localhost:8080/",
          "height": 424
        },
        "id": "D_tGI87oFzn1",
        "outputId": "08b3b937-0726-45dd-ab1f-3c36c7e0b86b"
      },
      "execution_count": null,
      "outputs": [
        {
          "output_type": "execute_result",
          "data": {
            "text/plain": [
              "         LPT     profit  cluster_4  cluster_5\n",
              "0        1.0  11.075000          1          1\n",
              "4       45.0  11.075000          0          2\n",
              "7       20.0  11.075000          1          3\n",
              "9       52.0  11.075000          0          2\n",
              "12       2.0  11.075000          1          1\n",
              "...      ...        ...        ...        ...\n",
              "487384  59.0  19.967481          0          2\n",
              "487386  11.0  19.967481          1          1\n",
              "487388   1.0  19.967481          1          1\n",
              "487390  57.0  19.967481          0          2\n",
              "487392  42.0  19.967481          0          2\n",
              "\n",
              "[180508 rows x 4 columns]"
            ],
            "text/html": [
              "\n",
              "  <div id=\"df-5b70b675-773d-4c07-9dea-fb342036e8d5\">\n",
              "    <div class=\"colab-df-container\">\n",
              "      <div>\n",
              "<style scoped>\n",
              "    .dataframe tbody tr th:only-of-type {\n",
              "        vertical-align: middle;\n",
              "    }\n",
              "\n",
              "    .dataframe tbody tr th {\n",
              "        vertical-align: top;\n",
              "    }\n",
              "\n",
              "    .dataframe thead th {\n",
              "        text-align: right;\n",
              "    }\n",
              "</style>\n",
              "<table border=\"1\" class=\"dataframe\">\n",
              "  <thead>\n",
              "    <tr style=\"text-align: right;\">\n",
              "      <th></th>\n",
              "      <th>LPT</th>\n",
              "      <th>profit</th>\n",
              "      <th>cluster_4</th>\n",
              "      <th>cluster_5</th>\n",
              "    </tr>\n",
              "  </thead>\n",
              "  <tbody>\n",
              "    <tr>\n",
              "      <th>0</th>\n",
              "      <td>1.0</td>\n",
              "      <td>11.075000</td>\n",
              "      <td>1</td>\n",
              "      <td>1</td>\n",
              "    </tr>\n",
              "    <tr>\n",
              "      <th>4</th>\n",
              "      <td>45.0</td>\n",
              "      <td>11.075000</td>\n",
              "      <td>0</td>\n",
              "      <td>2</td>\n",
              "    </tr>\n",
              "    <tr>\n",
              "      <th>7</th>\n",
              "      <td>20.0</td>\n",
              "      <td>11.075000</td>\n",
              "      <td>1</td>\n",
              "      <td>3</td>\n",
              "    </tr>\n",
              "    <tr>\n",
              "      <th>9</th>\n",
              "      <td>52.0</td>\n",
              "      <td>11.075000</td>\n",
              "      <td>0</td>\n",
              "      <td>2</td>\n",
              "    </tr>\n",
              "    <tr>\n",
              "      <th>12</th>\n",
              "      <td>2.0</td>\n",
              "      <td>11.075000</td>\n",
              "      <td>1</td>\n",
              "      <td>1</td>\n",
              "    </tr>\n",
              "    <tr>\n",
              "      <th>...</th>\n",
              "      <td>...</td>\n",
              "      <td>...</td>\n",
              "      <td>...</td>\n",
              "      <td>...</td>\n",
              "    </tr>\n",
              "    <tr>\n",
              "      <th>487384</th>\n",
              "      <td>59.0</td>\n",
              "      <td>19.967481</td>\n",
              "      <td>0</td>\n",
              "      <td>2</td>\n",
              "    </tr>\n",
              "    <tr>\n",
              "      <th>487386</th>\n",
              "      <td>11.0</td>\n",
              "      <td>19.967481</td>\n",
              "      <td>1</td>\n",
              "      <td>1</td>\n",
              "    </tr>\n",
              "    <tr>\n",
              "      <th>487388</th>\n",
              "      <td>1.0</td>\n",
              "      <td>19.967481</td>\n",
              "      <td>1</td>\n",
              "      <td>1</td>\n",
              "    </tr>\n",
              "    <tr>\n",
              "      <th>487390</th>\n",
              "      <td>57.0</td>\n",
              "      <td>19.967481</td>\n",
              "      <td>0</td>\n",
              "      <td>2</td>\n",
              "    </tr>\n",
              "    <tr>\n",
              "      <th>487392</th>\n",
              "      <td>42.0</td>\n",
              "      <td>19.967481</td>\n",
              "      <td>0</td>\n",
              "      <td>2</td>\n",
              "    </tr>\n",
              "  </tbody>\n",
              "</table>\n",
              "<p>180508 rows × 4 columns</p>\n",
              "</div>\n",
              "      <button class=\"colab-df-convert\" onclick=\"convertToInteractive('df-5b70b675-773d-4c07-9dea-fb342036e8d5')\"\n",
              "              title=\"Convert this dataframe to an interactive table.\"\n",
              "              style=\"display:none;\">\n",
              "        \n",
              "  <svg xmlns=\"http://www.w3.org/2000/svg\" height=\"24px\"viewBox=\"0 0 24 24\"\n",
              "       width=\"24px\">\n",
              "    <path d=\"M0 0h24v24H0V0z\" fill=\"none\"/>\n",
              "    <path d=\"M18.56 5.44l.94 2.06.94-2.06 2.06-.94-2.06-.94-.94-2.06-.94 2.06-2.06.94zm-11 1L8.5 8.5l.94-2.06 2.06-.94-2.06-.94L8.5 2.5l-.94 2.06-2.06.94zm10 10l.94 2.06.94-2.06 2.06-.94-2.06-.94-.94-2.06-.94 2.06-2.06.94z\"/><path d=\"M17.41 7.96l-1.37-1.37c-.4-.4-.92-.59-1.43-.59-.52 0-1.04.2-1.43.59L10.3 9.45l-7.72 7.72c-.78.78-.78 2.05 0 2.83L4 21.41c.39.39.9.59 1.41.59.51 0 1.02-.2 1.41-.59l7.78-7.78 2.81-2.81c.8-.78.8-2.07 0-2.86zM5.41 20L4 18.59l7.72-7.72 1.47 1.35L5.41 20z\"/>\n",
              "  </svg>\n",
              "      </button>\n",
              "      \n",
              "  <style>\n",
              "    .colab-df-container {\n",
              "      display:flex;\n",
              "      flex-wrap:wrap;\n",
              "      gap: 12px;\n",
              "    }\n",
              "\n",
              "    .colab-df-convert {\n",
              "      background-color: #E8F0FE;\n",
              "      border: none;\n",
              "      border-radius: 50%;\n",
              "      cursor: pointer;\n",
              "      display: none;\n",
              "      fill: #1967D2;\n",
              "      height: 32px;\n",
              "      padding: 0 0 0 0;\n",
              "      width: 32px;\n",
              "    }\n",
              "\n",
              "    .colab-df-convert:hover {\n",
              "      background-color: #E2EBFA;\n",
              "      box-shadow: 0px 1px 2px rgba(60, 64, 67, 0.3), 0px 1px 3px 1px rgba(60, 64, 67, 0.15);\n",
              "      fill: #174EA6;\n",
              "    }\n",
              "\n",
              "    [theme=dark] .colab-df-convert {\n",
              "      background-color: #3B4455;\n",
              "      fill: #D2E3FC;\n",
              "    }\n",
              "\n",
              "    [theme=dark] .colab-df-convert:hover {\n",
              "      background-color: #434B5C;\n",
              "      box-shadow: 0px 1px 3px 1px rgba(0, 0, 0, 0.15);\n",
              "      filter: drop-shadow(0px 1px 2px rgba(0, 0, 0, 0.3));\n",
              "      fill: #FFFFFF;\n",
              "    }\n",
              "  </style>\n",
              "\n",
              "      <script>\n",
              "        const buttonEl =\n",
              "          document.querySelector('#df-5b70b675-773d-4c07-9dea-fb342036e8d5 button.colab-df-convert');\n",
              "        buttonEl.style.display =\n",
              "          google.colab.kernel.accessAllowed ? 'block' : 'none';\n",
              "\n",
              "        async function convertToInteractive(key) {\n",
              "          const element = document.querySelector('#df-5b70b675-773d-4c07-9dea-fb342036e8d5');\n",
              "          const dataTable =\n",
              "            await google.colab.kernel.invokeFunction('convertToInteractive',\n",
              "                                                     [key], {});\n",
              "          if (!dataTable) return;\n",
              "\n",
              "          const docLinkHtml = 'Like what you see? Visit the ' +\n",
              "            '<a target=\"_blank\" href=https://colab.research.google.com/notebooks/data_table.ipynb>data table notebook</a>'\n",
              "            + ' to learn more about interactive tables.';\n",
              "          element.innerHTML = '';\n",
              "          dataTable['output_type'] = 'display_data';\n",
              "          await google.colab.output.renderOutput(dataTable, element);\n",
              "          const docLink = document.createElement('div');\n",
              "          docLink.innerHTML = docLinkHtml;\n",
              "          element.appendChild(docLink);\n",
              "        }\n",
              "      </script>\n",
              "    </div>\n",
              "  </div>\n",
              "  "
            ]
          },
          "metadata": {},
          "execution_count": 37
        }
      ]
    },
    {
      "cell_type": "markdown",
      "source": [
        "# Visualisasi cluster_4"
      ],
      "metadata": {
        "id": "h5fXyL5ABKNb"
      }
    },
    {
      "cell_type": "code",
      "source": [
        "sns.pairplot(Inventori_clean, vars=['LPT', 'profit'], hue=\"cluster_4\", palette=\"Paired\")\n",
        "plt.show()"
      ],
      "metadata": {
        "colab": {
          "base_uri": "https://localhost:8080/",
          "height": 370
        },
        "id": "THhRezhs8lfo",
        "outputId": "2af2cad5-7173-496a-b160-08e1d25d371d"
      },
      "execution_count": null,
      "outputs": [
        {
          "output_type": "display_data",
          "data": {
            "text/plain": [
              "<Figure size 425x360 with 6 Axes>"
            ],
            "image/png": "[encoded data removed]"
          },
          "metadata": {}
        }
      ]
    },
    {
      "cell_type": "markdown",
      "source": [
        "Visualisasi ini belum bisa menggambarkan dengan baik persebaran cluster (tidak bisa melihat centroid, jarak dari anggota cluster ke centroid) visualisasi yang lebih baik akan ditampilkan pada CP5 menggunakan Tableau"
      ],
      "metadata": {
        "id": "zDPIo0TeCIs7"
      }
    },
    {
      "cell_type": "markdown",
      "source": [
        "# Membandingkan cardinality cluster_4 dan cluster 5"
      ],
      "metadata": {
        "id": "LihsYr5B3ZCg"
      }
    },
    {
      "cell_type": "code",
      "source": [
        "fig, axis = plt.subplots(1, 2, figsize=(18, 6))\n",
        "for ax, preds in zip(axis, [\"cluster_5\", \"cluster_4\"]):\n",
        "    sns.countplot(x=preds, data=Inventori_clean, ax=ax, palette=\"Paired\")\n",
        "    ax.set_title(preds)\n",
        "plt.suptitle(\"Cluster Cardinality\")\n",
        "plt.show()"
      ],
      "metadata": {
        "colab": {
          "base_uri": "https://localhost:8080/",
          "height": 460
        },
        "id": "4-uDuEWeF1yH",
        "outputId": "40222037-e655-4d8b-8fe4-79c3916d3b89"
      },
      "execution_count": null,
      "outputs": [
        {
          "output_type": "display_data",
          "data": {
            "text/plain": [
              "<Figure size 1296x432 with 2 Axes>"
            ],
            "image/png": "[encoded data removed]"
          },
          "metadata": {}
        }
      ]
    },
    {
      "cell_type": "markdown",
      "source": [
        "Pada cluster_4 cardinalitynya masih cukup ekstrim, tapi ekstrimisme ini masih perlu dipantau lagi, apakah dapat diterima atau tidak dengan menggali lebih jauh karakteristiknya"
      ],
      "metadata": {
        "id": "YCxjS_MWH3_Z"
      }
    },
    {
      "cell_type": "markdown",
      "source": [
        "# Membandingkan magnitude cluster_5 dan cluster_4"
      ],
      "metadata": {
        "id": "Z1s6olkF6aiP"
      }
    },
    {
      "cell_type": "code",
      "source": [
        "fig, axis = plt.subplots(1, 2, figsize=(18, 6))\n",
        "for ax, model, name in zip(axis,[kmeans_5, kmeans_4],[\"cluster_5\", \"cluster_4\"]):\n",
        "    distances = model.transform(Product_clustering_scaled)\n",
        "    preds = model.predict(Product_clustering_scaled)\n",
        "    inertia_per_cluster = np.array([sum(dist[c]**2 for dist, c in zip(distances, preds) if c == cluster)\n",
        "        for cluster in range(model.n_clusters)])\n",
        "    ax.bar(x=range(model.n_clusters), height=inertia_per_cluster)\n",
        "    ax.set_title(name)\n",
        "plt.suptitle(\"Cluster Magnitude\")\n",
        "plt.show()"
      ],
      "metadata": {
        "colab": {
          "base_uri": "https://localhost:8080/",
          "height": 441
        },
        "id": "IxWbLt48GFtD",
        "outputId": "63c93a1c-b7e7-41a5-99a1-b471042e2f2c"
      },
      "execution_count": null,
      "outputs": [
        {
          "output_type": "display_data",
          "data": {
            "text/plain": [
              "<Figure size 1296x432 with 2 Axes>"
            ],
            "image/png": "[encoded data removed]"
          },
          "metadata": {}
        }
      ]
    },
    {
      "cell_type": "markdown",
      "source": [
        "Bisa dilihat, perbandingan cardinality dan magnitude pada cluster_4 bersifat lebih baik karena menunjukan proporsi yang bagus"
      ],
      "metadata": {
        "id": "D6ann5jPImxp"
      }
    },
    {
      "cell_type": "markdown",
      "source": [
        "Mantap, hasilnya sudah oke, next kita download hasilnya dalam bentuk file excel (xlsx)"
      ],
      "metadata": {
        "id": "Ohl67BunhzYy"
      }
    },
    {
      "cell_type": "code",
      "source": [
        "Inventori_clean.to_excel('product_clustering_ready.xlsx')"
      ],
      "metadata": {
        "id": "-9IBtj1Obb4Y"
      },
      "execution_count": null,
      "outputs": []
    }
  ]
}